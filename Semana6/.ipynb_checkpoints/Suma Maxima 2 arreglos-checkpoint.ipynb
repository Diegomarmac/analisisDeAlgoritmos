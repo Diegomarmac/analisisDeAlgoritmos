{
 "cells": [
  {
   "cell_type": "markdown",
   "id": "3425921c",
   "metadata": {},
   "source": [
    "## Suma máxima de dos arreglos\n",
    "La aproximación más fácil y rápida de este problema es en realidad muy sencillo, si primero ordenamos de forma ascendente ambos arreglos, solo tendremos que acceder al últimoi indice de cada arreglo y hacer la suma de esos dos números, como son los más grandes de cada arreglo nos darán la suma máxima, al seguir este camino el algoritmo será de tiempo de ejecución del algoritmo de ordenamiento usado, y el aceder a un indice especifico es de etiempo O(1), y una operación matematica es de tiempo O(1), con lo que sería T(n) = tiempo de ordenamiento + O(1) + O(1). \n",
    "\n",
    "Ahora, podemos hacerlo de dos maneras, ordenar los dos arrgelos, con lo que el tiempo de ordenamiento sería la suma del tiempo de arodenamiento del arreglo1 más el tiempo de ordenamiento del arreglo 2, y otro acercamiento sería unir los dos arreglos, lo que nos tomaría tiempo O(n), y luego ordenarlo, lo que nos daría tiempo de ordenamiento O(n) + O(del algoritmo de ordenamiento).  \n",
    "\n",
    "Ahora, teniendo esto en cuenta, si usamos un metodo de ordenamiento lineal da igual cualquiera de los dos acercamientos ya que 2n $\\in$ n  y así el tiempo del algoritmo sería $\\theta(n)$\n",
    "\n",
    "Pero si usamos un método de ordenamiento distinto, tendríamos como tiempo los siguientes casos:\n",
    "- si usamos 2 ordenamientos: O(nlog(n)) + O(nlog(n)) + O(1) + O(1)\n",
    "- si unimos los dos arreglos y solo ordenamos una vez: O(n) + O(nlog(n)) + O(1) + O(1)\n",
    "\n",
    "Es notorio que el segundo caso tendŕia un tiempo de ejecución menor, por lo que nos convendría usarlo, __si y solo si__ se nos pide que exactamente el tiempo de ejecución sea $\\theta(nlog(n))$, si por otro lado, ese tiempo fuera nuestro límite superior, entonces lo mejor es usar ordenamiento lineal, ya que no logro comprender cual de los dos casos es, realizaré ambos casos, para el ordenamiento lineal usaré CountingSort y para el otro mpetodo usaré QuickSort, la demostración queda un poco trivial, ya que en ambos casos como hemos visto en clase son algoritmos que funcionan y vimos además sus tiempos de ejecución."
   ]
  },
  {
   "cell_type": "markdown",
   "id": "365416be",
   "metadata": {},
   "source": [
    "### Caso Lineal"
   ]
  },
  {
   "cell_type": "code",
   "execution_count": 1,
   "id": "84bde538",
   "metadata": {},
   "outputs": [
    {
     "data": {
      "text/plain": [
       "countsort (generic function with 1 method)"
      ]
     },
     "execution_count": 1,
     "metadata": {},
     "output_type": "execute_result"
    }
   ],
   "source": [
    "function countsort(arreglo::Vector{Int64})\n",
    "    min, max = extrema(arreglo) #Aquí obtenemos el min y el max del arreglo, de un somin golpe\n",
    "    arregloOrdenado = fill(0,length(arreglo)) # Inicializamos el arreglo a regresar con ceros, del mismo tamaño que el arrelo a ordenar\n",
    "    contador = zeros(eltype(arreglo), max - min + 1) # Inicializamos un arreglo contador de tipo Int64 del tamaño de la diferencia de los extremos + 1\n",
    "    for i in arreglo\n",
    "        contador[i-min+1] += 1 \n",
    "    end\n",
    "    z = 1 # Debiera ser 0 que es donde inician los index de los arreglos, pero en Julia inician en 1\n",
    "    for i in min:max\n",
    "        while contador[i-min+1] > 0\n",
    "            arregloOrdenado[z] = i\n",
    "            z += 1\n",
    "            contador[i-min+1] -= 1\n",
    "        end\n",
    "    end\n",
    "    return arregloOrdenado\n",
    "end"
   ]
  },
  {
   "cell_type": "code",
   "execution_count": 2,
   "id": "731575dc",
   "metadata": {},
   "outputs": [
    {
     "name": "stdout",
     "output_type": "stream",
     "text": [
      "La suma máxima es 36 \n"
     ]
    }
   ],
   "source": [
    "arregloUno = rand(1:20,10)\n",
    "arregloDos = rand(1:20,10)\n",
    "\n",
    "arregloUno = countsort(arregloUno)\n",
    "arregloDos = countsort(arregloDos)\n",
    "\n",
    "maximaUno = last(arregloUno)\n",
    "maximaDos = last(arregloDos)\n",
    "println(\"La suma máxima es $(maximaUno + maximaDos) \")"
   ]
  },
  {
   "cell_type": "markdown",
   "id": "d396d5b5",
   "metadata": {},
   "source": [
    "### Caso nlog(n)"
   ]
  },
  {
   "cell_type": "code",
   "execution_count": null,
   "id": "74b20db5",
   "metadata": {},
   "outputs": [],
   "source": [
    "function quicksort!(arreglo,i=1,j=length(arreglo))\n",
    "    if j > i\n",
    "        pivote = arreglo[rand(i:j)] #Tomamos un número aleatorio dentro del rango de la longitud del arreglo\n",
    "        less, greater = i, j\n",
    "        while less <= greater\n",
    "            while arreglo[less] < pivote\n",
    "                less += 1\n",
    "            end\n",
    "            while arreglo[greater] > pivote\n",
    "                greater -= 1\n",
    "            end\n",
    "            if less <= greater\n",
    "                arreglo[less], arreglo[greater] = arreglo[greater], arreglo[less]\n",
    "                less += 1\n",
    "                greater -= 1\n",
    "            end\n",
    "        end\n",
    "        quicksort!(arreglo,i,greater)\n",
    "        quicksort!(arreglo,less,j)\n",
    "    end\n",
    "    return arreglo\n",
    "end"
   ]
  }
 ],
 "metadata": {
  "kernelspec": {
   "display_name": "Julia 1.6.2",
   "language": "julia",
   "name": "julia-1.6"
  },
  "language_info": {
   "file_extension": ".jl",
   "mimetype": "application/julia",
   "name": "julia",
   "version": "1.6.3"
  }
 },
 "nbformat": 4,
 "nbformat_minor": 5
}
