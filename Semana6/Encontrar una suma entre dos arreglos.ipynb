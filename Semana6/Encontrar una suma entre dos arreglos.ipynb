{
 "cells": [
  {
   "cell_type": "markdown",
   "id": "eb0bcdc4",
   "metadata": {},
   "source": [
    "La forma más sencilla de resolver este problema es usar un algoritmo de ordenamiento que ordene ambos arreglos, llamemosles arregloUno y arregloDos,supongamos ademas que length(arregloUno) == length(arregloDos),  luego realizar un loop, en dicho loop tomemos n como el valor a buscar, entonces realizaremos una diferencia entre n y arregloUno[i] es decir tendremos $n - elemento_i$ de esta forma obtendremos el valor que buscamos en el otro arreglo, arregloDos, aquí es donde usaremos un algoritmo de busqueda, en este caso usaré binarySearch en su forma iterativa, el cual es de tiempo $\\theta(1)$, y al estar anidado dentro del for que recorre los elementos del arregloDos, el tiempo total de este ciclo será de $\\theta(n)$ para mantener el tiempo lo más bajo y todo lo más simple posible, solo imprimo los elementos que cumplen con la suma, es decir en el resultado si vemos un 0 es que no existe un elemento en esa iteración que cumpla, así si vemos solamente 0's el algoritmo no ha encontrado un valor que cumpla, hemos visto aquí que el algoritmo tiene un fin, es decir, no es finito, Ahora, tenemos hasta aquí que el timepo va en $\\theta(n)$ pero no hemos tomado en el tiempo de ordenamiento de los dos arreglos, por lo que será importante escoger el adecuado algoritmo de ordenamiento, para mantenernos lo más pequeño posible en tiempo, escogeré un algoritmo de tiempo lineal, yo he escogido quicksort, con lo que al ser dos quick sort el tiempo de ejecución de esos dos ordenamientos es:  \n",
    "\n",
    "$\\theta2(n+k)$  esto suponiendo que ambos arreglos son del mismo largo.\n",
    "\n",
    "Así pues el tiempo total de este codigo será de $T(n) = \\theta(n) + \\theta2(n+k)$"
   ]
  },
  {
   "cell_type": "markdown",
   "id": "1eab280d",
   "metadata": {},
   "source": [
    "## Codigo"
   ]
  },
  {
   "cell_type": "code",
   "execution_count": 1,
   "id": "564e9c3d",
   "metadata": {},
   "outputs": [
    {
     "data": {
      "text/plain": [
       "countsort (generic function with 1 method)"
      ]
     },
     "execution_count": 1,
     "metadata": {},
     "output_type": "execute_result"
    }
   ],
   "source": [
    "function countsort(arreglo::Vector{Int64})\n",
    "    min, max = extrema(arreglo) #Aquí obtenemos el min y el max del arreglo, de un somin golpe\n",
    "    arregloOrdenado = fill(0,length(arreglo)) # Inicializamos el arreglo a regresar con ceros, del mismo tamaño que el arrelo a ordenar\n",
    "    contador = zeros(eltype(arreglo), max - min + 1) # Inicializamos un arreglo contador de tipo Int64 del tamaño de la diferencia de los extremos + 1\n",
    "    for i in arreglo\n",
    "        contador[i-min+1] += 1 \n",
    "    end\n",
    "    z = 1 # Debiera ser 0 que es donde inician los index de los arreglos, pero en Julia inician en 1\n",
    "    for i in min:max\n",
    "        while contador[i-min+1] > 0\n",
    "            arregloOrdenado[z] = i\n",
    "            z += 1\n",
    "            contador[i-min+1] -= 1\n",
    "        end\n",
    "    end\n",
    "    return arregloOrdenado\n",
    "end"
   ]
  },
  {
   "cell_type": "code",
   "execution_count": 2,
   "id": "cf83c81a",
   "metadata": {},
   "outputs": [
    {
     "data": {
      "text/plain": [
       "binarysearch (generic function with 1 method)"
      ]
     },
     "execution_count": 2,
     "metadata": {},
     "output_type": "execute_result"
    }
   ],
   "source": [
    "function binarysearch(arreglo::Vector{T}, valorABuscar::T) where T\n",
    "    limiteInferior = 1\n",
    "    limiteSUperior = length(arreglo)\n",
    "    while limiteInferior ≤ limiteSUperior\n",
    "        mitad = (limiteInferior + limiteSUperior) ÷ 2\n",
    "        if arreglo[mitad] > valorABuscar\n",
    "            limiteSUperior = mitad - 1\n",
    "        elseif arreglo[mitad] < valorABuscar\n",
    "            limiteInferior = mitad + 1\n",
    "        else\n",
    "            return mitad\n",
    "        end\n",
    "    end\n",
    "    return 0\n",
    "end"
   ]
  },
  {
   "cell_type": "code",
   "execution_count": 3,
   "id": "604ca600",
   "metadata": {},
   "outputs": [
    {
     "data": {
      "text/plain": [
       "10"
      ]
     },
     "execution_count": 3,
     "metadata": {},
     "output_type": "execute_result"
    }
   ],
   "source": [
    "arregloUno = [1,9,8,5,6,7]\n",
    "arregloDos = [9,7,957,1,0]\n",
    "sumaABuscar = 10"
   ]
  },
  {
   "cell_type": "code",
   "execution_count": 4,
   "id": "2352bf20",
   "metadata": {},
   "outputs": [
    {
     "name": "stdout",
     "output_type": "stream",
     "text": [
      "la suma se cumple para\n",
      "0\n",
      "0\n",
      "la suma se cumple para\n",
      "6\n",
      "1\n",
      "la suma se cumple para\n",
      "0\n",
      "7\n",
      "la suma se cumple para\n",
      "1\n",
      "9\n",
      "la suma se cumple para\n",
      "0\n",
      "957\n"
     ]
    }
   ],
   "source": [
    "arregloUno = countsort(arregloUno)\n",
    "arregloDos = countsort(arregloDos)\n",
    "\n",
    "for i in 1:length(arregloDos)\n",
    "    temporal = sumaABuscar - arregloDos[i]\n",
    "    println(\"la suma se cumple para\")\n",
    "    println(binarysearch(arregloUno,temporal))\n",
    "    println(arregloDos[i])\n",
    "end"
   ]
  },
  {
   "cell_type": "code",
   "execution_count": null,
   "id": "214adf35",
   "metadata": {},
   "outputs": [],
   "source": []
  }
 ],
 "metadata": {
  "kernelspec": {
   "display_name": "Julia 1.6.2",
   "language": "julia",
   "name": "julia-1.6"
  },
  "language_info": {
   "file_extension": ".jl",
   "mimetype": "application/julia",
   "name": "julia",
   "version": "1.6.3"
  }
 },
 "nbformat": 4,
 "nbformat_minor": 5
}
