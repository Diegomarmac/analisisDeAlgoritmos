{
 "cells": [
  {
   "cell_type": "code",
   "execution_count": 8,
   "id": "cef3c318",
   "metadata": {},
   "outputs": [
    {
     "data": {
      "text/plain": [
       "mergesort (generic function with 1 method)"
      ]
     },
     "execution_count": 8,
     "metadata": {},
     "output_type": "execute_result"
    }
   ],
   "source": [
    "function mergesort(arreglo::Vector)\n",
    "\tif length(arreglo) <= 1 return arreglo end\n",
    "\tmitad = floor(Int,length(arreglo) / 2)\n",
    "\tsubArregloIzquierdo = mergesort(arreglo[1:mitad])\n",
    "\tsubArregloDerecho = mergesort(arreglo[mitad+1:end])\n",
    "\tresultado = similar(arreglo) #Necesitamos inicializar un arreglo, que es el que regresaremos con las cifras ordenadas\n",
    "\ti = indiceDerecho = indiceIzquierdo = 1\n",
    "\t@inbounds while indiceIzquierdo <= length(subArregloIzquierdo) && indiceDerecho <= length(subArregloDerecho)\n",
    "\t\tif subArregloIzquierdo[indiceIzquierdo] <= subArregloDerecho[indiceDerecho]\n",
    "\t\t\tresultado[i] = subArregloIzquierdo[indiceIzquierdo]\n",
    "\t\t\tindiceIzquierdo += 1\n",
    "\t\telse\n",
    "\t\t\tresultado[i] = subArregloDerecho[indiceDerecho]\n",
    "\t\t\tindiceDerecho += 1\n",
    "\t\tend\n",
    "\t\ti += 1\n",
    "\tend\n",
    "\tif indiceIzquierdo <= length(subArregloIzquierdo)\n",
    "\t\tresultado[i:end] = subArregloIzquierdo[indiceIzquierdo:end]\n",
    "\telse\n",
    "\t\tresultado[i:end] = subArregloDerecho[indiceDerecho:end]\n",
    "\tend\n",
    "\treturn resultado \n",
    "end"
   ]
  },
  {
   "cell_type": "code",
   "execution_count": 17,
   "id": "3296a720",
   "metadata": {},
   "outputs": [
    {
     "data": {
      "text/plain": [
       "10-element Vector{Int64}:\n",
       "   3\n",
       "   0\n",
       "   9\n",
       " -10\n",
       "  -5\n",
       "   8\n",
       "   1\n",
       " -10\n",
       "  -1\n",
       "   0"
      ]
     },
     "execution_count": 17,
     "metadata": {},
     "output_type": "execute_result"
    }
   ],
   "source": [
    "arregloAleatorio = rand(-10:10, 10) # si quiere definirlo usted: arregloAleatorio = [AQUIVANLOSNUMEROS]"
   ]
  },
  {
   "cell_type": "code",
   "execution_count": 18,
   "id": "50f1ea0f",
   "metadata": {},
   "outputs": [
    {
     "data": {
      "text/plain": [
       "10-element Vector{Int64}:\n",
       " -10\n",
       " -10\n",
       "  -5\n",
       "  -1\n",
       "   0\n",
       "   0\n",
       "   1\n",
       "   3\n",
       "   8\n",
       "   9"
      ]
     },
     "execution_count": 18,
     "metadata": {},
     "output_type": "execute_result"
    }
   ],
   "source": [
    "mergesort(arregloAleatorio)"
   ]
  },
  {
   "cell_type": "code",
   "execution_count": 6,
   "id": "f994d5c1",
   "metadata": {},
   "outputs": [
    {
     "name": "stdout",
     "output_type": "stream",
     "text": [
      "un arrelo aleatorio desordenado: [-1, 2, -6, 6, 4, -8, 9, 1, -5, -2] \n",
      "Ahora aparece ordenado! [-8, -6, -5, -2, -1, 1, 2, 4, 6, 9]\n"
     ]
    }
   ],
   "source": [
    "function swap(arreglo, i, j)\n",
    "    arreglo[i], arreglo[j] = arreglo[j], arreglo[i] \n",
    "end\n",
    "\n",
    "#####Recordar que el uso de ! al final del nombre de una función en Julia\n",
    "### es una convención para indicar que los argumentos son\n",
    "## pass-by-sharing \n",
    "\n",
    "function pd!(arreglo, primero, ultimo)\n",
    "    while (c = 2 * primero - 1) < ultimo\n",
    "        if c < ultimo && arreglo[c] < arreglo[c + 1]\n",
    "            c += 1\n",
    "        end\n",
    "        if arreglo[primero] < arreglo[c]\n",
    "            swap(arreglo, c, primero)\n",
    "            primero = c\n",
    "        else\n",
    "            break\n",
    "        end\n",
    "    end\n",
    "end\n",
    " \n",
    "function heapify!(arreglo, n) #n es un indice\n",
    "    f = div(n, 2)\n",
    "    while f >= 1 \n",
    "        pd!(arreglo, f, n)\n",
    "        f -= 1 \n",
    "    end\n",
    "end\n",
    " \n",
    "function heapsort!(arreglo)\n",
    "    longitud = length(arreglo)\n",
    "    heapify!(arreglo, longitud)\n",
    "    while longitud > 1 \n",
    "        swap(arreglo, 1, longitud)\n",
    "        longitud -= 1\n",
    "        pd!(arreglo, 1, longitud)\n",
    "    end\n",
    "    return arreglo\n",
    "end"
   ]
  },
  {
   "cell_type": "code",
   "execution_count": 11,
   "id": "d72f557f",
   "metadata": {},
   "outputs": [
    {
     "data": {
      "text/plain": [
       "10-element Vector{Int64}:\n",
       " -9\n",
       " -4\n",
       " 10\n",
       "  7\n",
       " -5\n",
       " -8\n",
       " -4\n",
       "  1\n",
       " -9\n",
       " -3"
      ]
     },
     "execution_count": 11,
     "metadata": {},
     "output_type": "execute_result"
    }
   ],
   "source": [
    "arregloAleatorio = rand(-10:10, 10) # si quiere definirlo usted: arregloAleatorio = [AQUIVANLOSNUMEROS]"
   ]
  },
  {
   "cell_type": "code",
   "execution_count": 12,
   "id": "f873cb2e",
   "metadata": {},
   "outputs": [
    {
     "data": {
      "text/plain": [
       "10-element Vector{Int64}:\n",
       " -9\n",
       " -9\n",
       " -8\n",
       " -5\n",
       " -4\n",
       " -4\n",
       " -3\n",
       "  1\n",
       "  7\n",
       " 10"
      ]
     },
     "execution_count": 12,
     "metadata": {},
     "output_type": "execute_result"
    }
   ],
   "source": [
    "mergesort(arregloAleatorio)"
   ]
  },
  {
   "cell_type": "code",
   "execution_count": null,
   "id": "bc1bd443",
   "metadata": {},
   "outputs": [],
   "source": []
  }
 ],
 "metadata": {
  "kernelspec": {
   "display_name": "Julia 1.6.2",
   "language": "julia",
   "name": "julia-1.6"
  },
  "language_info": {
   "file_extension": ".jl",
   "mimetype": "application/julia",
   "name": "julia",
   "version": "1.6.2"
  }
 },
 "nbformat": 4,
 "nbformat_minor": 5
}
