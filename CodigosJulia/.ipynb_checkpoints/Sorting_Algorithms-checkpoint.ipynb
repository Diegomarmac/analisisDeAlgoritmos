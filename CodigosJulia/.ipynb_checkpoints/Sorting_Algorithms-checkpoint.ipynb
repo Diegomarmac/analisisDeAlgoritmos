{
 "cells": [
  {
   "cell_type": "markdown",
   "id": "bdc925a2",
   "metadata": {},
   "source": [
    "## MergeSort"
   ]
  },
  {
   "cell_type": "code",
   "execution_count": 8,
   "id": "cef3c318",
   "metadata": {},
   "outputs": [
    {
     "data": {
      "text/plain": [
       "mergesort (generic function with 1 method)"
      ]
     },
     "execution_count": 8,
     "metadata": {},
     "output_type": "execute_result"
    }
   ],
   "source": [
    "function mergesort(arreglo::Vector)\n",
    "\tif length(arreglo) <= 1 return arreglo end\n",
    "\tmitad = floor(Int,length(arreglo) / 2)\n",
    "\tsubArregloIzquierdo = mergesort(arreglo[1:mitad])\n",
    "\tsubArregloDerecho = mergesort(arreglo[mitad+1:end])\n",
    "\tresultado = similar(arreglo) #Necesitamos inicializar un arreglo, que es el que regresaremos con las cifras ordenadas\n",
    "\ti = indiceDerecho = indiceIzquierdo = 1\n",
    "\t@inbounds while indiceIzquierdo <= length(subArregloIzquierdo) && indiceDerecho <= length(subArregloDerecho)\n",
    "\t\tif subArregloIzquierdo[indiceIzquierdo] <= subArregloDerecho[indiceDerecho]\n",
    "\t\t\tresultado[i] = subArregloIzquierdo[indiceIzquierdo]\n",
    "\t\t\tindiceIzquierdo += 1\n",
    "\t\telse\n",
    "\t\t\tresultado[i] = subArregloDerecho[indiceDerecho]\n",
    "\t\t\tindiceDerecho += 1\n",
    "\t\tend\n",
    "\t\ti += 1\n",
    "\tend\n",
    "\tif indiceIzquierdo <= length(subArregloIzquierdo)\n",
    "\t\tresultado[i:end] = subArregloIzquierdo[indiceIzquierdo:end]\n",
    "\telse\n",
    "\t\tresultado[i:end] = subArregloDerecho[indiceDerecho:end]\n",
    "\tend\n",
    "\treturn resultado \n",
    "end"
   ]
  },
  {
   "cell_type": "code",
   "execution_count": 17,
   "id": "3296a720",
   "metadata": {},
   "outputs": [
    {
     "data": {
      "text/plain": [
       "10-element Vector{Int64}:\n",
       "   3\n",
       "   0\n",
       "   9\n",
       " -10\n",
       "  -5\n",
       "   8\n",
       "   1\n",
       " -10\n",
       "  -1\n",
       "   0"
      ]
     },
     "execution_count": 17,
     "metadata": {},
     "output_type": "execute_result"
    }
   ],
   "source": [
    "arregloAleatorio = rand(-10:10, 10) # si quiere definirlo usted: arregloAleatorio = [AQUIVANLOSNUMEROS]"
   ]
  },
  {
   "cell_type": "code",
   "execution_count": 18,
   "id": "50f1ea0f",
   "metadata": {},
   "outputs": [
    {
     "data": {
      "text/plain": [
       "10-element Vector{Int64}:\n",
       " -10\n",
       " -10\n",
       "  -5\n",
       "  -1\n",
       "   0\n",
       "   0\n",
       "   1\n",
       "   3\n",
       "   8\n",
       "   9"
      ]
     },
     "execution_count": 18,
     "metadata": {},
     "output_type": "execute_result"
    }
   ],
   "source": [
    "mergesort(arregloAleatorio)"
   ]
  },
  {
   "cell_type": "markdown",
   "id": "916f5135",
   "metadata": {},
   "source": [
    "## HeapSort"
   ]
  },
  {
   "cell_type": "code",
   "execution_count": 6,
   "id": "f994d5c1",
   "metadata": {},
   "outputs": [
    {
     "name": "stdout",
     "output_type": "stream",
     "text": [
      "un arrelo aleatorio desordenado: [-1, 2, -6, 6, 4, -8, 9, 1, -5, -2] \n",
      "Ahora aparece ordenado! [-8, -6, -5, -2, -1, 1, 2, 4, 6, 9]\n"
     ]
    }
   ],
   "source": [
    "function swap(arreglo, i, j)\n",
    "    arreglo[i], arreglo[j] = arreglo[j], arreglo[i] \n",
    "end\n",
    "\n",
    "#####Recordar que el uso de ! al final del nombre de una función en Julia\n",
    "### es una convención para indicar que los argumentos son\n",
    "## pass-by-sharing \n",
    "\n",
    "function pd!(arreglo, primero, ultimo)\n",
    "    while (c = 2 * primero - 1) < ultimo\n",
    "        if c < ultimo && arreglo[c] < arreglo[c + 1]\n",
    "            c += 1\n",
    "        end\n",
    "        if arreglo[primero] < arreglo[c]\n",
    "            swap(arreglo, c, primero)\n",
    "            primero = c\n",
    "        else\n",
    "            break\n",
    "        end\n",
    "    end\n",
    "end\n",
    " \n",
    "function heapify!(arreglo, n) #n es un indice\n",
    "    f = div(n, 2)\n",
    "    while f >= 1 \n",
    "        pd!(arreglo, f, n)\n",
    "        f -= 1 \n",
    "    end\n",
    "end\n",
    " \n",
    "function heapsort!(arreglo)\n",
    "    longitud = length(arreglo)\n",
    "    heapify!(arreglo, longitud)\n",
    "    while longitud > 1 \n",
    "        swap(arreglo, 1, longitud)\n",
    "        longitud -= 1\n",
    "        pd!(arreglo, 1, longitud)\n",
    "    end\n",
    "    return arreglo\n",
    "end"
   ]
  },
  {
   "cell_type": "code",
   "execution_count": 11,
   "id": "d72f557f",
   "metadata": {},
   "outputs": [
    {
     "data": {
      "text/plain": [
       "10-element Vector{Int64}:\n",
       " -9\n",
       " -4\n",
       " 10\n",
       "  7\n",
       " -5\n",
       " -8\n",
       " -4\n",
       "  1\n",
       " -9\n",
       " -3"
      ]
     },
     "execution_count": 11,
     "metadata": {},
     "output_type": "execute_result"
    }
   ],
   "source": [
    "arregloAleatorio = rand(-10:10, 10) # si quiere definirlo usted: arregloAleatorio = [AQUIVANLOSNUMEROS]"
   ]
  },
  {
   "cell_type": "markdown",
   "id": "b7911608",
   "metadata": {},
   "source": [
    "## BInary Search"
   ]
  },
  {
   "cell_type": "code",
   "execution_count": null,
   "id": "a08a2085",
   "metadata": {},
   "outputs": [
    {
     "name": "stdout",
     "output_type": "stream",
     "text": [
      "Vamos a jugar, seleccione una dificultad:\n",
      "Para juego rápido pulse 'r' \n",
      "Para juego medio pulse 'm' \n",
      "Para juego tedioso pulse 't' \n"
     ]
    }
   ],
   "source": [
    "function guessTheNumber(limiteSuperior, limiteInferior)\n",
    "    variableABuscar = limiteInferior + ((limiteSuperior - limiteInferior)/2) #El principio de BInary Search se basa en irnos a mitades hacia arriba o hacia abajo, usamos ese principio\n",
    "    variableABuscar = trunc(Int,variableABuscar) # Con esto convertimos el resultado a Entero\n",
    "    println(\"El número a buscar es: \", variableABuscar, \"?\")\n",
    "    println(\"Presione 'g' si el número a buscar es más grande\")\n",
    "    println(\"Presione 'b' si el número a buscar es más bajo\")\n",
    "    println(\"Presione 'c' si el número a buscar es el correcto\")\n",
    "    respuesta = chomp(readline())\n",
    "    while respuesta ∉ [\"c\", \"b\", \"g\"] #Que el usuario SOLAMENTE pueda ingresar las opciones que queremos\n",
    "        print(\"Por favor seleccione solamente \\\"c\\\", \\\"b\\\", o \\\"g\\\". \")\n",
    "        respuesta = chomp(readline())\n",
    "    end\n",
    "    if respuesta == \"c\" # Esto es solamente gestión de entrada, si ya se encontró el número, pos GAME OVER\n",
    "        println(\"Genial ya encontramos el número!\")\n",
    "    elseif respuesta == \"b\"\n",
    "        limiteSuperior = variableABuscar\n",
    "        guessTheNumber(limiteSuperior, limiteInferior) # Si el númeroa buscar es menor, entonces tomamos el número dado como el limite superior para la siguiente busqueda\n",
    "    else\n",
    "        limiteInferior = variableABuscar\n",
    "        guessTheNumber(limiteSuperior,limiteInferior) # Si el númeroa buscar es mayor, entonces tomamos el número dado como el limite inferior para la siguiente busqueda\n",
    "    end\n",
    "end\n",
    "######################### Lo de aca abajo es solo para testing\n",
    "println(\"Vamos a jugar, seleccione una dificultad:\")\n",
    "println(\"Para juego rápido pulse 'r' \")\n",
    "println(\"Para juego medio pulse 'm' \")\n",
    "println(\"Para juego tedioso pulse 't' \")\n",
    "dificultadDelJuego = chomp(readline()) #Esto solo para añadirle más opciones para el usuario\n",
    "while dificultadDelJuego ∉ [\"r\", \"m\", \"t\"]\n",
    "    print(\"Por favor seleccione solamente \\\"r\\\", \\\"m\\\", o \\\"t\\\". \")\n",
    "    dificultadDelJuego = chomp(readline())\n",
    "end\n",
    "if dificultadDelJuego == \"r\"\n",
    "    arreglo = collect(1:10)\n",
    "elseif dificultadDelJuego == \"m\"\n",
    "    arreglo = collect(1:100)\n",
    "else\n",
    "    arreglo = collect(1:1000)\n",
    "end\n",
    "\n",
    "println(\"Piensa en un número entre 1 y\",length(arreglo),\"... listo ? comencemos !\")\n",
    "guessTheNumber(length(arreglo),0)"
   ]
  },
  {
   "cell_type": "markdown",
   "id": "e8ccd274",
   "metadata": {},
   "source": [
    "## Counting Sort"
   ]
  },
  {
   "cell_type": "code",
   "execution_count": null,
   "id": "b858bdb3",
   "metadata": {},
   "outputs": [],
   "source": [
    "function countsort(arreglo::Vector{Int64})\n",
    "    min, max = extrema(arreglo) #Aquí obtenemos el min y el max del arreglo, de un somin golpe\n",
    "    arregloOrdenado = fill(0,length(arreglo)) # Inicializamos el arreglo a regresar con ceros, del mismo tamaño que el arrelo a ordenar\n",
    "    contador = zeros(eltype(arreglo), max - min + 1) # Inicializamos un arreglo contador de tipo Int64 del tamaño de la diferencia de los extremos + 1\n",
    "    for i in arreglo\n",
    "        contador[i-min+1] += 1 \n",
    "    end\n",
    "    z = 1 # Debiera ser 0 que es donde inician los index de los arreglos, pero en Julia inician en 1\n",
    "    for i in min:max\n",
    "        while contador[i-min+1] > 0\n",
    "            arregloOrdenado[z] = i\n",
    "            z += 1\n",
    "            contador[i-min+1] -= 1\n",
    "        end\n",
    "    end\n",
    "    return arregloOrdenado\n",
    "end\n",
    " \n",
    "################## Caso de los 2 arreglos y su suma máxima\n",
    "#arregloUno = rand(1:20,10)\n",
    "#arregloDos = rand(1:20,10)\n",
    "#println(\"Arreglos desordenados $arregloUno\")\n",
    "#println(arregloDos)\n",
    "#arregloUno = countsort(arregloUno)\n",
    "#arregloDos = countsort(arregloDos)\n",
    "#println(\"Arreglos Ordenados\")\n",
    "#println(arregloUno)\n",
    "#println(arregloDos)\n",
    "#maximaUno = last(arregloUno)\n",
    "#maximaDos = last(arregloDos)\n",
    "#println(\"La suma máxima es $(maximaUno + maximaDos) \")\n",
    "\n",
    "#########################\n",
    "#v = rand(1:50, 20)\n",
    "#v = rand(1:12,1000) Problema de los 1000 cumpleaños\n",
    "#println(\"Arreglo de Enteros Desordenados: $v\\n Ya ordenados: $(countsort(v))\")"
   ]
  },
  {
   "cell_type": "markdown",
   "id": "ed3c4cb7",
   "metadata": {},
   "source": [
    "## Radix"
   ]
  },
  {
   "cell_type": "code",
   "execution_count": null,
   "id": "a15be47d",
   "metadata": {},
   "outputs": [],
   "source": [
    "function radixsort(ordenar::Vector{Int})\n",
    "    arreglo = deepcopy(ordenar)\n",
    "    for cambio in 63:-1:0\n",
    "        temporal = Vector{Int}(undef, length(arreglo))\n",
    "        j = 0\n",
    "        for i in 1:length(arreglo)\n",
    "            if (cambio == 0) == ((arreglo[i] << cambio) >= 0)\n",
    "                arreglo[i - j] = arreglo[i]\n",
    "            else\n",
    "                temporal[j + 1] = arreglo[i]\n",
    "                j += 1\n",
    "            end\n",
    "        end\n",
    "        temporal[j+1:end] .= arreglo[1:length(temporal)-j]\n",
    "        arreglo = temporal\n",
    "    end\n",
    "    arreglo\n",
    "end\n",
    " \n",
    "####### Prueba con 2 subarreglos\n",
    "#function test()\n",
    "#    arrays = [[1180, 450, -705, -90, -802, 24, 2, 66], [-4, 5, -26, 58, -990, 331, 331, 990, -1837, 2028]]\n",
    "#    for array in arrays \n",
    "#        println(radixsort(array))\n",
    "#    end\n",
    "#end\n",
    " \n",
    "####### PRueba n^2\n",
    "#array = rand(1:2^10, 100)\n",
    "#println(radixsort(array))"
   ]
  },
  {
   "cell_type": "code",
   "execution_count": null,
   "id": "5777b69c",
   "metadata": {},
   "outputs": [],
   "source": []
  }
 ],
 "metadata": {
  "kernelspec": {
   "display_name": "Julia 1.6.2",
   "language": "julia",
   "name": "julia-1.6"
  },
  "language_info": {
   "file_extension": ".jl",
   "mimetype": "application/julia",
   "name": "julia",
   "version": "1.6.3"
  }
 },
 "nbformat": 4,
 "nbformat_minor": 5
}
