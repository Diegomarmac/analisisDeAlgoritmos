{
 "cells": [
  {
   "cell_type": "markdown",
   "id": "7b66de97",
   "metadata": {},
   "source": [
    "## 3.1-1\n",
    "Tomamos $f(n)$ y $g(n)$ como funciones asintoticas y no negativas, así pues n puede tomar cualquier valor dentro de cada función y por ende, n es asu vez, también no negativo, es decir $n >= 0$ entonces, al poder ser cualquier valor dentro de $f$ y de $g$, podemos asumir que $n = max$ y tomemos $c_1 = 0.5$ & $c_2 = 1$ de esta foirma podemos decir que:  \n",
    "\n",
    "$0 <= 0.5(f(n) + g(n))$ y como n tiende al max, entonces podemos hacer la siguiente igualdad:  \n",
    "\n",
    "$0 <= 0.5(f(n) + g(n)) <= 0.5max(f(n),g(n)) + max(f(n),g(n))$   \n",
    "\n",
    "que desarrollando tenemos:  \n",
    "\n",
    "$max(f(n),g(n)) <= max(f(n),g(n)) + min(f(n),g(n)) = (f(n) + g(n))$ y listo !"
   ]
  },
  {
   "cell_type": "markdown",
   "id": "258479a7",
   "metadata": {},
   "source": [
    "## 3.1-2\n",
    "Hagamos $c = 2^b$ y $n_0 >= 2a$"
   ]
  }
 ],
 "metadata": {
  "kernelspec": {
   "display_name": "Julia 1.6.2",
   "language": "julia",
   "name": "julia-1.6"
  },
  "language_info": {
   "file_extension": ".jl",
   "mimetype": "application/julia",
   "name": "julia",
   "version": "1.6.3"
  }
 },
 "nbformat": 4,
 "nbformat_minor": 5
}
