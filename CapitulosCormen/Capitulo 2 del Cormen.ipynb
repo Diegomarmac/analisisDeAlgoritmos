{
 "cells": [
  {
   "cell_type": "markdown",
   "id": "1ede1bd4",
   "metadata": {},
   "source": [
    "## 2.1-2 \n",
    "### NonIncreasing Insertion Sort(Arreglo)\n",
    "1. for j = 2 hasta length(Arreglo) do\n",
    "    1. punto = Arreglo[j] \n",
    "    2. i = j -1\n",
    "    3. while i > 0 && Arreglo[i] < punto do\n",
    "        4. Arreglo[i + 1] = Arreglo[i]\n",
    "        5. i = i -1\n",
    "    4. fin del while\n",
    "    5. Arreglo[i + 1]\n",
    "2. fin del for"
   ]
  },
  {
   "cell_type": "markdown",
   "id": "73cef7be",
   "metadata": {},
   "source": [
    "## 2.1-3\n",
    "En cada iteración dentro del *for* , con solo entrar, ya tenemos el loop invariante, notamos que no hay un índice k tal que k < j, tenemos en su lugar A[k] = v.  \n",
    "Hay que notar que el valor de j se *actualiza* o *modifica* en cada iteración, por lo que para obtener el valor de j en determinado momento deberiamos conocer en que punto ha pasado la iteración anterior.  \n",
    "Ahora, en el pseudo codigo anterior, en la linea C, donde empieza el *while* en el momento en que este nuevo loop sea terminado o se salga de el, entonces tendremos un valor aceptable en i en la linea anterior.  \n",
    "Si el loop sale después de recorrer todos los valores posibles de j, entonces sabremos que no existe un índice que tenga el valor de j ,por lo tanto, tendríamos i con valor nulo."
   ]
  },
  {
   "cell_type": "markdown",
   "id": "c034b868",
   "metadata": {},
   "source": [
    "## 2.1-4\n",
    "### Linear Search(Arreglo,valor)\n",
    "1. i = null\n",
    "2. for j = 1 hasta length(Arreglo) do\n",
    "    1. if Arreglo[j] == valor entonces\n",
    "        1. i = j\n",
    "        2. return i\n",
    "    2. Fin del if\n",
    "3. fin del for\n",
    "4. return i\n",
    "    "
   ]
  },
  {
   "cell_type": "markdown",
   "id": "260ad4e3",
   "metadata": {},
   "source": [
    "### Agregando BInarios Enteros de n bits\n",
    "1. carga = 0\n",
    "2. for i = n hasta 1 do\n",
    "    3. ArregloC[i + 1] = (Arreglo[i] + ArregloB + carga) % 2 (**nota** % se toma como operación) modulo\n",
    "    4. if Arreglo[i] + ArregloB[i] + carga > = 2 entonces\n",
    "        5. carga = 1\n",
    "    6. else\n",
    "        7.carga = 0\n",
    "    8. fin del if\n",
    "9. fin del for\n",
    "10.ArregloC[1] = carga\n"
   ]
  },
  {
   "cell_type": "markdown",
   "id": "dd9186cf",
   "metadata": {},
   "source": [
    "**Entradas**: Dos arreglos de n elementos denominados A y B, como elementos tienen los digitos binarios a y b.  \n",
    "**Salida**: un arreglo de elementos n+1 llamado C que contendrá los digitos binarios de a + b"
   ]
  },
  {
   "cell_type": "markdown",
   "id": "83b1b2b5",
   "metadata": {},
   "source": [
    "## 2.2-1\n",
    "$n^2 / 1000$ - $100 n^2$ - $100n$ + $3$ $\\in$ $ \\theta (n^3)$ "
   ]
  },
  {
   "cell_type": "markdown",
   "id": "7e6ae2a7",
   "metadata": {},
   "source": [
    "## 2.2-2\n",
    "### Selection Sort\n",
    "\n",
    "1. for i = 1 hasta n-1 do\n",
    "    2. min = i\n",
    "    3. for j = i + 1 hasta n do\n",
    "        4. if A[j] < A[min] entonces\n",
    "            5.min = j\n",
    "        6. min = j\n",
    "        7. fin del if\n",
    "    8. fin del for\n",
    "    9. Swap (A[min], A[i])\n",
    "10. fin del for\n"
   ]
  },
  {
   "cell_type": "markdown",
   "id": "8c3b0ef7",
   "metadata": {},
   "source": [
    "**Entradas**: un arreglo de n elementos desordenados denominado A  \n",
    "**Salida**: El arreglo A de elementos n, pero ahora, ordenado  \n",
    "El loop invariante de *selection sort*:  \n",
    "se cumple en cada iteración del loop for _principal_ .  \n",
    "El subarreglo A[1 ... i -1] contiene el i-1 elementos más pequeños en orden ascendente.  \n",
    "Después de las n- 1 posiciones del loop, los elementos n-1 más pequeños estarán en las n-1 posiciones de A, de esta manera, teniendo que el más pequeño va al inicio, tenemos el número más grande en la posición $n^k$.  \n",
    "\n",
    "Sobre el mejor y el peor caso, ambos son $\\theta(n^2)$. Ya que no importa como estén ordenados los elementos al inicio, es decir, en el arreglo desordenado, **siempre** se recorreran cada uno de los n - i elementos para encontrar el mśa pequeño."
   ]
  },
  {
   "cell_type": "markdown",
   "id": "03fae2b3",
   "metadata": {},
   "source": [
    "## 2.2-3\n",
    "Suponiendo que cada entrada sigue una probabilidad _p_ de ser el elemento a encontrar, esto es, $p = (\\frac{1}{n})$ donde n es el total de elementos en el arreglo. Lo que notamos es que es similar a cualquier problema básico de probabilidad donde cada elemento tiene una _equi-probabilidad_ es decir, todos los elementos tienen la misma probabilidad, así podemos usar la siguiente formula:"
   ]
  },
  {
   "cell_type": "markdown",
   "id": "b4c2b6f4",
   "metadata": {},
   "source": [
    "$\\sum_{i=1}^{n} \\frac{i}{n} $ = $\\frac{n + 1}{2}$"
   ]
  },
  {
   "cell_type": "markdown",
   "id": "716962ab",
   "metadata": {},
   "source": [
    "Lo que tenemos entonces es que la complejidad tiende a $\\theta(n)$ ya que la complejidad es de $\\theta(k)$ donde k = cantidad de elementos del arreglo.  \n",
    "**Nota** He usado la sustitución de k = cantidad de elementos ya que si usaba la que estaba manejando, es decir, n = cantidad de elementos, existiría confusión entre el tiempo lineal y el timepo de la cantidad de elementos."
   ]
  },
  {
   "cell_type": "markdown",
   "id": "4ddb1a09",
   "metadata": {},
   "source": [
    "## 2.2-4\n",
    "Un acercamiento a obtener un _best-case_ es generar una salida aleatroia acorde a la entrada y revisar si cumple con lo esperado o no del algoritmo, de modo que si produce el resultado deseado, solo habría que _parar_ el algoritmo, si la salida no es lo que esperabamos, entonces correr el algoritmo adecuado, es decir, en un problema de ordenamiento, si usando los elementos del arreglo a ordenar generamos un arreglo aleatorio y sale ordenado, paramos, de lo contrario, corremos el algoritmo de ordenamiento, de esta manera el mejor caso correra en $\\theta(n)$ y para el peor, se tomarpia el peor caso del algoritmo de ordenamiento usado."
   ]
  },
  {
   "cell_type": "markdown",
   "id": "d19f9b76",
   "metadata": {},
   "source": [
    "## 2.3-1\n",
    "\n",
    "3 41 52 26 38 57 9 49  \n",
    "\n",
    "3 41 26 52 38 57 9 49\n",
    "\n",
    "3 41 26 38 52 57 9 49  \n",
    "\n",
    "3 26 41 52 9 38 49 57\n",
    "\n",
    "3 9 26 38 41 49 25 57"
   ]
  },
  {
   "cell_type": "markdown",
   "id": "40b81184",
   "metadata": {},
   "source": [
    "## 2.3-2\n",
    "### Merge sin sentinelas(A,p,q,r)\n",
    "\n",
    "1. $n_1 = q-p + 1$\n",
    "2. $n_2 = r - q$\n",
    "3. let L[1,...., $n_1$] & R[1,...,$n_2$] arreglos nuevos\n",
    "4. for i = 1 hasta $n_1$ do\n",
    "    5. L[i] = A[p + i - 1]\n",
    "6. fin del for\n",
    "7. for j = 1 hastas $n_2$ do\n",
    "    8. R[j] = A[q+j]\n",
    "9. final del for\n",
    "10. i = 1\n",
    "11. j = 1\n",
    "12. k = p\n",
    "13. while i != $n_1$ +1 && j != $n_2$ +1 do\n",
    "    14. if L[i] < = R[j] entonces\n",
    "        15. A[k] = L[i]\n",
    "        16. i = i +1\n",
    "    17. else A[k] = R[j]\n",
    "        18. j += 1\n",
    "    19. Final del If\n",
    "    20. k += 1\n",
    "21. Fin del While\n",
    "22. if i == $n_1$ + 1 entonces\n",
    "    23. for m = i hasta $n_2$ do\n",
    "        24. A[k] = R[m]\n",
    "        25. k += 1\n",
    "    26. Fin del For\n",
    "27. Fin del If\n",
    "28. if j == $n_2$ +1 entonces\n",
    "    29. for m = 1 hasta $n_1$ do\n",
    "        30. A[k] = L[M]\n",
    "        31. k += 1\n",
    "    32. Fin del For\n",
    "33. Fin del If"
   ]
  },
  {
   "cell_type": "markdown",
   "id": "80adadd0",
   "metadata": {},
   "source": [
    "En el pseudocodigo anterior vemos la implementación de Merge Sort sin el uso de _snetinelas_. Al igual que en el Merge \"normal\" comenzamos por cpouar los subarreglos de A para ser _merged_ en arreglos L(izquierdo) y R(derecho).  \n",
    "En cada iteración del loop _while_ se selecciona el elemento siguiente más pequeño, ya sea desde L o desde R, para insertarlo en A. Se detiene si cualquiera de los subarreglos se queda sin elementos, en ese punto se copian los elementos restantes en los lugares restantes de A."
   ]
  },
  {
   "cell_type": "markdown",
   "id": "dfd7e22b",
   "metadata": {},
   "source": [
    "## 2.3-3\n",
    "Como n es una potencia de 2 podemos reescribirlo ,solo por comodidad visual, como $n = 2^k$ : k $\\in $ Reales.  \n",
    "Tomemos como caso base $k = 1$ así tenemos: $T(2) = 2 = 2 log(2)$.\n",
    "\n",
    "Tomando este caso base, lo siguiente es realizarlo para k+1:\n",
    "\n",
    "sustituyendo tenemos: $T(2^{K+1})$ en el planteamiento del problema tenemos que $T(n) = 2T(\\frac{n}{2}) + n$ donde $n = 2^k$ así tomando $n = 2^{k + 1}$ sustituyendo tenemos:\n",
    "\n",
    "$T(2^{k+1}) = 2T(\\frac{2^{k+1}}{2}) + 2^{k+1}$ por algebra podemos reescribir como:  \n",
    "\n",
    "$2T(2^k) + 2^{k+1}$\n",
    "\n",
    "Y sabemos que $T(2^k) = 2^k log(2^k)$, de esta manera sustituiremos en la ecuación anterior y nos queda:  \n",
    "\n",
    "$2(2^K log(2^k)) + 2^k+1$  \n",
    "Y por propiedades de los logaritmos, nos queda:\n",
    "\n",
    "$k2^{k+1} + 2^{k+1}$  \n",
    "_Agrupando_ las operaciones nos queda:  \n",
    "\n",
    "$(k+1)2^{k+1}$  \n",
    "De nuevo usamos propiedades de los logaritmos tenemos:  \n",
    "\n",
    "$2^{k+1}log(2^{k+1})$  \n",
    "Y como paso final, sabemos que $n = 2^{k+1}$ sustituyendo:  \n",
    "\n",
    "$n log(n)$  \n",
    "Hemos acabado :)"
   ]
  },
  {
   "cell_type": "markdown",
   "id": "a3096c08",
   "metadata": {},
   "source": [
    "## 2.3-4\n",
    "Tomemos T(n) como el tiempo de _insertion sort_ para un arreglo de tamaño n. Podemos entonces, expresar T(n) como:\n",
    "\n",
    "$\\theta(1)$ si n <= C  \n",
    "\n",
    "$T(n-1) + I(n)$ en cualquier otro caso  : Donde $I(n)$ es el tiempo de inserción A[n]\n",
    "\n",
    "Hay que pensar en que al ser recursivo vamos a mover _n-1_ elementos conforme vamos encontrando el lugar adecuado para insertar A[n], por lo tanto, tenemos que $I(n) = \\theta (n)$"
   ]
  },
  {
   "cell_type": "markdown",
   "id": "2b5e4bf5",
   "metadata": {},
   "source": [
    "## 2.3-5\n",
    "### BinarySearch(a,n,v)\n",
    "1. if 1 > b entonces\n",
    "    2. return Null\n",
    "3. FIn del If\n",
    "4. m = $\\frac{a+b}{2}$\n",
    "5. if m == v\n",
    "    6. return m\n",
    "7. Fin del If\n",
    "8. if m < v entonces\n",
    "    9. return BinarySearch(m,v)\n",
    "10. Fin del If\n",
    "11. Return BInarySearch(m+1,b,v)"
   ]
  },
  {
   "cell_type": "markdown",
   "id": "1892dcc3",
   "metadata": {},
   "source": [
    "**Nota** ya que no supe como escribirlo en el pseudocodigo sin afectar el funcionamiento, la primera vez que sea ejecutado deberá tomarse _a = 1_ .  \n",
    "Cada vez que se llama lafunción tiene como resultado un número constante de operaciones más una llamada de una instancia de otro problema tomando ahora que b - a cae por lo menos en factor de 2. De esta manera el tiempo de ejecución satisface que:  \n",
    "\n",
    "$T(n) = T(\\frac{n}{2}) + c$ entonces tenemos que $T(n) \\in \\theta(log(n))$"
   ]
  },
  {
   "cell_type": "markdown",
   "id": "d4cc668d",
   "metadata": {},
   "source": [
    "## 2.3-6\n",
    "Sabemos que Insertion Sort es un algoritmo $O(n^2)$ por lo que no se puede mejorar en el _worst case_.  \n",
    "Insertion Sort tiene que copiar cada elemento mayor que el usado como pivote o como llave, si usamos binary search podríamos indicar la cantidad de elementos que se necesitan copiar, pero esto no nos omite la necesidad de estar copiando."
   ]
  },
  {
   "cell_type": "code",
   "execution_count": null,
   "id": "09d85251",
   "metadata": {},
   "outputs": [],
   "source": []
  }
 ],
 "metadata": {
  "kernelspec": {
   "display_name": "Julia 1.6.2",
   "language": "julia",
   "name": "julia-1.6"
  },
  "language_info": {
   "file_extension": ".jl",
   "mimetype": "application/julia",
   "name": "julia",
   "version": "1.6.3"
  }
 },
 "nbformat": 4,
 "nbformat_minor": 5
}
