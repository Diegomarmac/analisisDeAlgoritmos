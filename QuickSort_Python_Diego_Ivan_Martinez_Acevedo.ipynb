{
 "cells": [
  {
   "cell_type": "code",
   "execution_count": 2,
   "id": "925bd4a4",
   "metadata": {},
   "outputs": [],
   "source": [
    "import random\n",
    "\n",
    "def quicksort(arreglo):\n",
    "    if (len(arreglo)) < 2:\n",
    "        return arreglo\n",
    "    else:\n",
    "        if len(arreglo) == 3:\n",
    "            dondeInicio = 0 # Si el arreglo es de solo 3 elementos, nos conviene tomar el indice 0 para ordenar\n",
    "        else:\n",
    "            dondeInicio = random.randint(len(arreglo) // 4, len(arreglo)*3 //4)\n",
    "            # En esta instrucción quitamos los cuartos bilaterales para qudearnos con un 50% de probabilidad de tomar elementos en medio del arreglo\n",
    "        pivote  = arreglo[dondeInicio]\n",
    "        less    = [i for i in arreglo[1:] if i <= pivote] # Sub arreglo de elementos menores que el pivote\n",
    "        greater = [i for i in arreglo[1:] if i > pivote ] # Sub arreglo de elementos mayores que el pivote\n",
    "\n",
    "        return quicksort(less) + [pivote] + quicksort(greater)"
   ]
  },
  {
   "cell_type": "code",
   "execution_count": 6,
   "id": "ef9b91ae",
   "metadata": {},
   "outputs": [],
   "source": [
    "arregloAleatorio = [random.randint(-100,100) for _ in range(50)] # si quiere definirlo usted arregloAleatorio = [AQUIVANLOSNUMEROS]"
   ]
  },
  {
   "cell_type": "code",
   "execution_count": 7,
   "id": "06ae0f82",
   "metadata": {},
   "outputs": [
    {
     "data": {
      "text/plain": [
       "[-98,\n",
       " -98,\n",
       " -94,\n",
       " -94,\n",
       " -90,\n",
       " -84,\n",
       " -83,\n",
       " -81,\n",
       " -81,\n",
       " -75,\n",
       " -73,\n",
       " -65,\n",
       " -65,\n",
       " -65,\n",
       " -54,\n",
       " -33,\n",
       " -33,\n",
       " -21,\n",
       " -21,\n",
       " -18,\n",
       " -13,\n",
       " -13,\n",
       " -11,\n",
       " -5,\n",
       " -5,\n",
       " -5,\n",
       " -3,\n",
       " -3,\n",
       " 6,\n",
       " 6,\n",
       " 14,\n",
       " 14,\n",
       " 21,\n",
       " 37,\n",
       " 37,\n",
       " 44,\n",
       " 44,\n",
       " 69,\n",
       " 69,\n",
       " 72,\n",
       " 72,\n",
       " 76,\n",
       " 81,\n",
       " 82,\n",
       " 82,\n",
       " 82,\n",
       " 90,\n",
       " 91,\n",
       " 91,\n",
       " 100]"
      ]
     },
     "execution_count": 7,
     "metadata": {},
     "output_type": "execute_result"
    }
   ],
   "source": [
    "quicksort(arregloAleatorio)"
   ]
  },
  {
   "cell_type": "code",
   "execution_count": null,
   "id": "5969192b",
   "metadata": {},
   "outputs": [],
   "source": []
  }
 ],
 "metadata": {
  "kernelspec": {
   "display_name": "Python 3 (ipykernel)",
   "language": "python",
   "name": "python3"
  },
  "language_info": {
   "codemirror_mode": {
    "name": "ipython",
    "version": 3
   },
   "file_extension": ".py",
   "mimetype": "text/x-python",
   "name": "python",
   "nbconvert_exporter": "python",
   "pygments_lexer": "ipython3",
   "version": "3.9.7"
  }
 },
 "nbformat": 4,
 "nbformat_minor": 5
}
