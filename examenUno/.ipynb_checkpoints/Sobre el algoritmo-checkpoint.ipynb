{
 "cells": [
  {
   "cell_type": "markdown",
   "id": "c905f0fa",
   "metadata": {},
   "source": [
    "## Sobre el algoritmo\n",
    "Las primeras veces intentando este algoritmo llegaba a $\\theta(n)$ hasta que se me ocurrió usar una especie de _mutación_ de __binary search__, se me ocurrió ya que el tiempo de ese algoritmo es $\\theta(log n)$, lo solicitado es $\\theta(logn^2)$ y por propiedades de los algoritmos tenemos que:  \n",
    "$logn^2 = 2logn$  \n",
    "\n",
    "Que a su vez se puede reescrbiir como:\n",
    "$2logn = logn + logn$  \n",
    "\n",
    "Así un acercamiento es usar un algoritmo de busqueda en tiempo $logn$ que al ser ejecutado dos veces en el algoritmo se produzca esa suma, el único algoritmo de busqueda que se ma ha ocurrido es __binary search__  \n",
    "\n",
    "Ahora, como en el problema se menciona que tanto el arreglo A como el B son de mismo tamaño y ambos ya se encuentran ordenados, entonces podemos asumir que el n-esimo elemento en el conjunto A $\\bigcup$ B está dentro de los primeros n-esimos de A o de B, aquí algo importante, no podemos realizar la union de A con B en un supuesto arreglo C, ya que esto se puede ejecutar en un tiempo minimo de $\\theta(n)$ con lo que nos saldríamos de lo solicitado, por lo que hay que encontrar una formula de _aproximar_ el indice buscado sin crear un arreglo nuevo.  \n",
    "\n",
    "El principio de binary search es ir _partiendo en mitades_ el arreglo donde se busca hasta encontrar el elemento a buscar, de misma forma lo que estoy haciendo es comparar el n-ésimo / 2, por el mismo principio de que al buscarse el n, sería absurdo buscar en los indices superiores, ya que al estar ordenados, nos estariamos saliendo del _rango de busqueda_ entonces buscamos en mitades dentro de los primeros n-ésimos elementos de cada arreglo.  \n",
    "\n",
    "Así pues, al igual que en binary se necesitan los limites extremos, es decir, un limite inferior y un limite superior que se van actualizando, aquí tomamos como limite superior la longitud de cada arreglo, que para nuestro problema ambos son de tamaño n, y el limite inferior como lo que en el pseudocodigo denomino comparador, ya que es el que más va ir cambiando.\n",
    "\n",
    "Algo a notar es que a diferencia del binary search original, el elemento a buscar lo estoy dividiendo con 2, lo que nos va dando las mitades donde buscar, a cada mitad, se toma numeroABuscar/2 como el indice a revisar, y aquí es donde ocurre una especie de ordenamiento implicito, se buscan los n-1 menores, es decir $n_0$ sería el número más pequeño y se van acomodando (esto es solo un decir) hasta el $n_{n-1}$ ya que el $n_n$ es el elemento a buscar.\n",
    "\n",
    "Veamoslo con un ejemplo, tomemos dos arreglos A y B de tamaño n.  \n",
    "\n",
    "arregloA = $[n_0, ... , n]$  \n",
    "\n",
    "arregloB = $[n'_0, ... , n']$  \n",
    "\n",
    "Donde no necesariamente $n_i$ = $n'_i$ y donde toda n pertenece a los reales  \n",
    "\n",
    "Ahora dado un elementoABuscar = k (para no confundir con muchas n's)  \n",
    "\n",
    "Así binary = elementoAbuscar/2\n",
    "\n",
    "y revisamos si ArregloA[binary] < arregloB[binary], algo importante aquí es que si binary = 1, entonces tendríamos al elemento más pequeño de ambos arreglos, en caso de ser la priemra busqueda  \n",
    "\n",
    "y se va continuar iterando _eliminando_ los indices inferiores al buscado, es decir de forma implicita vamos _ordenando_ hasta obtener el elemento k, una vez encontrado se regresa, ahora pensando en $k+1$ tendriamos:\n",
    "\n",
    "arregloA = $[n_0, ... , n]$  \n",
    "\n",
    "arregloB = $[n'_0, ... , n']$  \n",
    "\n",
    "Donde no necesariamente $n_i$ = $n'_i$ y donde toda n pertenece a los reales\n",
    "\n",
    "Donde no necesariamente $n_i$ = $n'_i$ y donde toda n pertenece a los reales  \n",
    "\n",
    "Ahora dado un elementoABuscar = k+1 (para no confundir con muchas n's)  \n",
    "\n",
    "Así binary = elementoAbuscar/2\n",
    "\n",
    "y revisamos si ArregloA[binary] < arregloB[binary], algo importante aquí es que si binary = 1, entonces tendríamos al segundo elemento más pequeño de ambos arreglos, en caso de ser la priemra busqueda  y se va continuar iterando _eliminando_ los indices inferiores al buscado, es decir de forma implicita vamos _ordenando_ hasta obtener el elemento k+1"
   ]
  },
  {
   "cell_type": "code",
   "execution_count": null,
   "id": "06868696",
   "metadata": {},
   "outputs": [],
   "source": []
  }
 ],
 "metadata": {
  "kernelspec": {
   "display_name": "Julia 1.6.2",
   "language": "julia",
   "name": "julia-1.6"
  },
  "language_info": {
   "file_extension": ".jl",
   "mimetype": "application/julia",
   "name": "julia",
   "version": "1.6.3"
  }
 },
 "nbformat": 4,
 "nbformat_minor": 5
}
