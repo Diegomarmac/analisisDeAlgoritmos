{
 "cells": [
  {
   "cell_type": "markdown",
   "id": "f03c328e-2b9a-4bf7-8da8-858eb61c9545",
   "metadata": {},
   "source": [
    "### 22.1-1\n",
    "Denotando con v cada vértice, el encontrar la longitud de cada uno nos tomará $O(outDegree(v))$, entonces el costo total será:  \n",
    "$\\sum_{v \\in V} O(outDegree(v)) = O(|E| + |V|)$.  \n",
    "Podemos reducir este tiempo a $O(|V|)$ si por cada lista de adyacencia, restauramos la longitud.  \n",
    "Para computar los grados de cada vértice debemos ir por toda la lista y llevar contadores de cuantas veces ha aparecido cada vértice, el tiempo de escanear una lista de adyacencia es de $O(|E| + |V|)$ \n",
    "\n",
    "### 22.1-2\n",
    "La lista de adyacencia queda:\n",
    "1. 2,3\n",
    "2. 1,4,5\n",
    "3. 1,6,7\n",
    "4. 2\n",
    "5. 2\n",
    "6. 3\n",
    "7. 3\n",
    "\n",
    "Y la matriz queda:  \n",
    "![matriz de representación](../images/22-1-2.png)\n",
    "\n",
    "### 22.1-3\n",
    "Para computar el transpuesto de un grafo, debemos tomar la matriz transpuesta de la representación de matriz del grafo,esto toma tiempo $O(|V²|)$.  \n",
    "Para la lista de adyacencia, iniciamos con una lista vacía, luego _escaneamos_ la lista de adyacencia original, si en esta lista original observamos correspondencia entre un vértice $v$ y una entrada $u$, entonces agregamos $v$ a lalista transpuesta correspondiente al vértice $u$, esto es más eficiente que trabajar con matrices, nos toma tiempo $O(|E|+|V|)$\n",
    "\n",
    "### 22.1-4\n",
    "CReamos un arreglo A de tamaño $|V|$, para una lista de adyacencia correspondiente al vértice $v$, revisar los _items_ en la lista uno por uno, si algpun _item_ es igual a $v$, entonces lo eliminamos. Si el vértice $u$ aparece en la lista, hay que revisar $A[u]$. si no es igual a $v$ entonces lo igualamos, si desde un inicio ya es igual a $v$, quitamos $u$ de la lista, esto nos toamría tiempo $O(V + E)$\n",
    "\n",
    "### 22.1-6\n",
    "Empezando en la posición (1,1) en la matriz de adyacencia, cuando examinamos la posición $(i,j)$, si encontramos un 1, revisamos la posición $(i + 1, j)$. Si encontramos un 0, entonces revisamos la posición $(i, j +1)$, si cualquiera de los dos i o j son iguales a $|V|$, acabamos.\n",
    "AHora supongamos el vértice $k$ es un _universal sink_, por lo que el renglón de K en la matriz de adyacencia, será de puros 0's y la columna k, será de puros 1's, excepto en (k,k) donde habrá un 0, entonces en nuestro algoritmo, cuando se alcance el renglón k, el algoritmo sigue incremenentando j hasta que $j = |V|$, y para asegurarnos que se alcance ese punto, se debe incrementar i hasta que lleguemos a k.  \n",
    "Este algoritmo corre en O(V), revisar si i es o no _sink_ nos toma O(V), por lo que el proceso entero nos toma O(V) "
   ]
  },
  {
   "cell_type": "code",
   "execution_count": null,
   "id": "782915e4-bc69-4de6-ac4c-0b05a9a818d6",
   "metadata": {},
   "outputs": [],
   "source": []
  }
 ],
 "metadata": {
  "kernelspec": {
   "display_name": "Julia 1.6.2",
   "language": "julia",
   "name": "julia-1.6"
  },
  "language_info": {
   "file_extension": ".jl",
   "mimetype": "application/julia",
   "name": "julia",
   "version": "1.6.4"
  }
 },
 "nbformat": 4,
 "nbformat_minor": 5
}
