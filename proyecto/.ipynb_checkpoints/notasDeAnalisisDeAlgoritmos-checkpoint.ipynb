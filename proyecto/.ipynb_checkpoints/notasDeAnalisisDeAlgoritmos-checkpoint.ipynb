{
 "cells": [
  {
   "cell_type": "markdown",
   "id": "8fa4dc5e-bc2e-45a9-891e-24110e8a0ed1",
   "metadata": {
    "jp-MarkdownHeadingCollapsed": true,
    "tags": []
   },
   "source": [
    "# Introducción a la teoría de algoritmos"
   ]
  },
  {
   "cell_type": "markdown",
   "id": "131318c3-6fd5-4e22-b1c3-2b15d8399777",
   "metadata": {
    "jp-MarkdownHeadingCollapsed": true,
    "tags": []
   },
   "source": [
    "## Tesis Church-Turing"
   ]
  },
  {
   "cell_type": "markdown",
   "id": "fa31575e-cd7c-4f02-a9c3-09c37a7c06b8",
   "metadata": {},
   "source": [
    "Es una afirmación que apsear de ser indemostrable es aceptada universalmente en las ciencias computacionales, dice: \"Todo Algoritmo, sin importar la complejidad,es una maquina de Turing\". Esto nos lleva al siguiente punto, las máquinas de Turing"
   ]
  },
  {
   "cell_type": "markdown",
   "id": "138416bb-1d56-4a92-82ee-067588fc68b8",
   "metadata": {
    "jp-MarkdownHeadingCollapsed": true,
    "tags": []
   },
   "source": [
    "## Máquinas de Turing"
   ]
  },
  {
   "cell_type": "markdown",
   "id": "79d5879f-3432-4e62-9328-d2acdba7c7e7",
   "metadata": {},
   "source": [
    "Una máquina de Turing consiste de un control finito que puede estar en\n",
    "cualquier estado de un conjunto finito de estados.\n",
    "Se tiene una cinta dividida en celdas, cada celda con un símbolo. Inicialmente, la entrada (cadena finita de símbolos del alfabeto) se coloca en la cinta, el resto de las celdas tienen el símbolo especial vacío.\n",
    "La cabeza de la cinta está siempre sobre una celda y al principio está sobre la celda más a la izquierda con el primer símbolo de la cadena de entrada.\n",
    "Un movimiento o transición puede cambiar de estado (o quedarse en el estado actual), escribir un símbolo (reemplazando el símbolo que existía o dejando el mismo) y mover la cabeza a la izquierda o derecha."
   ]
  },
  {
   "cell_type": "markdown",
   "id": "79faf71d-18c7-4ec6-973d-97a64459e96d",
   "metadata": {
    "jp-MarkdownHeadingCollapsed": true,
    "tags": []
   },
   "source": [
    "## Verificación de un algoritmo"
   ]
  },
  {
   "cell_type": "markdown",
   "id": "50541e3c-cd62-4094-986b-e07a6196a5df",
   "metadata": {
    "jp-MarkdownHeadingCollapsed": true,
    "tags": []
   },
   "source": [
    "Demostraciones por inducción son una forma de probar que tu algoritmo funciona. Cada demostración por inducción tiene dos pasos: el caso base y el caso inductivo.  \n",
    "Ya que esto queda un poco ambiguo, veamos un ejemplo.  \n",
    "Queremos demostrar que que podemos subir una escalera hasta el último escalón (un algortimo *debe ser finito* ).\n",
    "En el caso inductivo, si mis pies están ya en uno de los escalones, puedo poner mis pies en el siguiente escalón, de esta manera si estabamos en el escalón 1, ahora estaremos en el escalon 2. Eso es un caso inductivo.\n",
    "Veamos ahora el caso base. Puedo decir que mis pies están en la base,piso o escalón 0, puedo entonces subir al escalón 1.\n",
    "\n",
    "Tomando el caso base y nuestro caso inductivo, por lo tanto, podemos escalar hasta el último escalón subiendo uno a la vez."
   ]
  },
  {
   "cell_type": "markdown",
   "id": "f20823f4-cc33-44c8-ab85-ec760ecfb54d",
   "metadata": {
    "tags": []
   },
   "source": [
    "# Técnicas Básicas del Análisis de algoritmos"
   ]
  },
  {
   "cell_type": "markdown",
   "id": "52070808-43a3-41d5-9ed2-05fe272702ed",
   "metadata": {
    "tags": []
   },
   "source": [
    "## Análisis Asintótico"
   ]
  },
  {
   "cell_type": "markdown",
   "id": "fa817056-19b5-444d-9dcb-3aedac526f7c",
   "metadata": {},
   "source": [
    "Existen dos grandes bloques sobre el análisis de un algoritmo, por tiempo y por espacio, abarquemos primero el de espacio, este análisis uso la notación Big O, mientras que para el análisis de tiempo, tendremos 3 tiempos para cada algoritmo (algunos solo cuentan con 1 o dos, no es una regla el que todos los algoritmos tendrán 3 tiempos distintos).  \n",
    "Para tiempo, tenemos la notación $\\Omega$ para indicar el mejor caso.  \n",
    "La notación $\\Theta$ para el tiempo promedio.  \n",
    "Y por último usamos O(o mayúscula)para el peor caso."
   ]
  },
  {
   "cell_type": "markdown",
   "id": "7f9cb274-b41d-4fda-a412-d2ac38ed0f35",
   "metadata": {
    "tags": []
   },
   "source": [
    "### Gráficas de tiempo y tablas de algunas complejidades"
   ]
  },
  {
   "cell_type": "markdown",
   "id": "40676edd-51c4-4282-b0de-7720bb222d0e",
   "metadata": {},
   "source": [
    "[Click para ver el archivo](./big-o-cheatsheet.pdf)"
   ]
  },
  {
   "cell_type": "code",
   "execution_count": null,
   "id": "fa41d0c4-01c2-4869-9b2d-c051a1ca318d",
   "metadata": {},
   "outputs": [],
   "source": []
  }
 ],
 "metadata": {
  "kernelspec": {
   "display_name": "Julia 1.6.2",
   "language": "julia",
   "name": "julia-1.6"
  },
  "language_info": {
   "file_extension": ".jl",
   "mimetype": "application/julia",
   "name": "julia",
   "version": "1.6.3"
  }
 },
 "nbformat": 4,
 "nbformat_minor": 5
}
