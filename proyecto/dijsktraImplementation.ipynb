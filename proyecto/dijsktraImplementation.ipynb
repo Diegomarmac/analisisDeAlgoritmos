{
 "cells": [
  {
   "cell_type": "markdown",
   "id": "8c53d37c-78ec-4f70-b146-b365512d3cd3",
   "metadata": {},
   "source": [
    "# Dijkstra Implementation"
   ]
  },
  {
   "cell_type": "markdown",
   "id": "5fa24294-7df5-4e51-b73a-cc9bfd49b870",
   "metadata": {},
   "source": [
    "La primer pregunta es... ¿ cómo representamos los costos de un grafo? bueno... vamos a usar hash tables:"
   ]
  },
  {
   "cell_type": "code",
   "execution_count": 4,
   "id": "b769c007-d921-4c0a-8301-9688ea7cdf66",
   "metadata": {},
   "outputs": [
    {
     "name": "stdout",
     "output_type": "stream",
     "text": [
      "{'a': 6, 'b': 2}\n"
     ]
    }
   ],
   "source": [
    "graph = {} # El nombre en inglés por convencionalismos\n",
    "graph[\"inicio\"] = {}\n",
    "graph[\"inicio\"][\"a\"] = 6 #EL costo de llegar desde el inicio hasta el punto a\n",
    "graph[\"inicio\"][\"b\"] = 2\n",
    "print(graph[\"inicio\"])"
   ]
  },
  {
   "cell_type": "markdown",
   "id": "0e78917e-2418-4f9a-824e-de0e6dab13b1",
   "metadata": {},
   "source": [
    "Imprimí el grafo para que veamos lo que hay dentro de nuestra _hash table_  los nodos son: inicio, a,b y yo estoy imprimiendo los nodos vecinos a _inicio_ con sus respectivos costos, espero haberme explicado porque aquí viene lo feo...  \n",
    "Vamos a agregar el resto de nodos (ToDo: crear la imagen del grafo completo)"
   ]
  },
  {
   "cell_type": "code",
   "execution_count": 5,
   "id": "2d4108fb-0e40-4e04-a563-0020f65084f9",
   "metadata": {},
   "outputs": [],
   "source": [
    "graph[\"a\"] = {}\n",
    "graph[\"a\"][\"fin\"] = 1\n",
    "\n",
    "graph[\"b\"] = {}\n",
    "graph[\"b\"][\"a\"] = 3 # NO usamos a -> b ya que en costo es lo mismo b->a que a->b\n",
    "graph[\"b\"][\"fin\"] = 5\n",
    "\n",
    "graph[\"fin\"] = {} # hasta aquí vamos a dejar, quiero que este nodo al ser el fin no tenga nodos vecinos"
   ]
  },
  {
   "cell_type": "markdown",
   "id": "515abf49-5744-4435-9376-eebe2beea807",
   "metadata": {},
   "source": [
    "Ahora necesitamos una tabla de costos, en esta tabla tendremos el costo que toma llegar a ese nodo desde el inicio, pero, pero, pero algo importante es que no sabemos cuanto tiempo nos va tomar llegar desde el inicio hasta el fin, por lo que este tiempo desconocido es implementado en código como infinito, por convencionalismos en python el infinito se representa de una forma bastante fácil, por eso no estoy usando Julia, se vuelve más complejo el implementar ciertas cosas."
   ]
  },
  {
   "cell_type": "code",
   "execution_count": 7,
   "id": "a9ac01d5-b944-4827-8acf-27398c54cc24",
   "metadata": {},
   "outputs": [],
   "source": [
    "infinity = float(\"inf\") # COnvencionalismo para el concepto de infinito en pyhton\n",
    "# Ahora sí, a crear la hash table de costos\n",
    "costos = {}\n",
    "costos[\"a\"] = 6\n",
    "costos[\"b\"] = 2\n",
    "costos[\"fin\"] = infinity"
   ]
  },
  {
   "cell_type": "markdown",
   "id": "5c84313a-bd33-4580-a685-69a0992c0a53",
   "metadata": {},
   "source": [
    "Ahora, necesitamos otra _hash table_ de los nodos padres..."
   ]
  },
  {
   "cell_type": "code",
   "execution_count": 8,
   "id": "777398ac-ff65-4b1e-a212-d88f36fe7041",
   "metadata": {},
   "outputs": [],
   "source": [
    "padres = {}\n",
    "padres[\"a\"] = \"inicio\"\n",
    "padres[\"b\"] = \"inicio\"\n",
    "padres[\"fin\"] = None"
   ]
  },
  {
   "cell_type": "markdown",
   "id": "9749cfd1-c034-485b-91c9-4f916004540e",
   "metadata": {},
   "source": [
    "En el algoritmo te dije que necesitamos llevar un registro de que nodos ya fueron procesados... hay que hacerlo"
   ]
  },
  {
   "cell_type": "code",
   "execution_count": 9,
   "id": "908b644e-ef5b-43b8-82ae-4574a6e52a6b",
   "metadata": {},
   "outputs": [],
   "source": [
    "procesados = []"
   ]
  },
  {
   "cell_type": "markdown",
   "id": "c2495f29-0246-48d2-afd4-081401ae2262",
   "metadata": {},
   "source": [
    "Necesitamos una forma de conocer el nodo de menor costo..."
   ]
  },
  {
   "cell_type": "code",
   "execution_count": 14,
   "id": "5aa45881-2721-4d4c-b855-ea2e89388d06",
   "metadata": {},
   "outputs": [],
   "source": [
    "def findLowestCostNode(costos):\n",
    "    lowestCost = float(\"inf\") #Recuerda que esto es el infinito\n",
    "    lowestCostNode = None\n",
    "    for node in costos:\n",
    "        cost = costos[node]\n",
    "        if cost < lowestCost and node not in procesados:\n",
    "            lowestCost = cost\n",
    "            lowestCostNode = node\n",
    "    return lowestCostNode"
   ]
  },
  {
   "cell_type": "markdown",
   "id": "eb974a70-efef-4d4c-b597-c5d0b2312710",
   "metadata": {},
   "source": [
    "Ahora sí tenemos todo... agarrate !"
   ]
  },
  {
   "cell_type": "code",
   "execution_count": 17,
   "id": "4d4bbc01-ba7e-4be7-b477-bf3bc4e47cab",
   "metadata": {},
   "outputs": [],
   "source": [
    "node = findLowestCostNode(costos)\n",
    "while node is not None:\n",
    "    costo = costos[node]\n",
    "    neighbors = graph[node]\n",
    "    for n in neighbors.keys():\n",
    "        newCost = costo + neighbors[n]\n",
    "        if costos[n] > newCost:\n",
    "            costos[n] = newCost\n",
    "            padres[n] = node\n",
    "    procesados.append(node)\n",
    "    node = findLowestCostNode(costos)"
   ]
  }
 ],
 "metadata": {
  "kernelspec": {
   "display_name": "Python 3 (ipykernel)",
   "language": "python",
   "name": "python3"
  },
  "language_info": {
   "codemirror_mode": {
    "name": "ipython",
    "version": 3
   },
   "file_extension": ".py",
   "mimetype": "text/x-python",
   "name": "python",
   "nbconvert_exporter": "python",
   "pygments_lexer": "ipython3",
   "version": "3.9.7"
  }
 },
 "nbformat": 4,
 "nbformat_minor": 5
}
