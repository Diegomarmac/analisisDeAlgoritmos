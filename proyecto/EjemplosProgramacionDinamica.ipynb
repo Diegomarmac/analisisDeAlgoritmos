{
 "cells": [
  {
   "cell_type": "markdown",
   "id": "7dd19f3c-9f93-4030-983d-030f4eb9445d",
   "metadata": {
    "jp-MarkdownHeadingCollapsed": true,
    "tags": []
   },
   "source": [
    "## Fibonacci"
   ]
  },
  {
   "cell_type": "markdown",
   "id": "97049f7e-c5f3-4fe7-9d78-5795227a6c38",
   "metadata": {
    "jp-MarkdownHeadingCollapsed": true,
    "tags": []
   },
   "source": [
    "### Solución común"
   ]
  },
  {
   "cell_type": "code",
   "execution_count": 3,
   "id": "c4a48e44-5649-4706-bee4-db5d73cd030c",
   "metadata": {},
   "outputs": [],
   "source": [
    "def fibonacci(numero):\n",
    "    if numero <= 2:\n",
    "        return 1\n",
    "    return fibonacci(numero-1)+fibonacci(numero-2)"
   ]
  },
  {
   "cell_type": "code",
   "execution_count": 6,
   "id": "3f819b5a-e8f1-4204-8e5f-3ceb7f464ec1",
   "metadata": {},
   "outputs": [
    {
     "data": {
      "text/plain": [
       "8"
      ]
     },
     "execution_count": 6,
     "metadata": {},
     "output_type": "execute_result"
    }
   ],
   "source": [
    "fibonacci(6)"
   ]
  },
  {
   "cell_type": "markdown",
   "id": "a6782ae7-3d3f-4b49-ae91-62632071d9e3",
   "metadata": {},
   "source": [
    "La solución de arriba es la solución común que se suele dar al pedir un número cualquiera de la serie de Fibonacci, esa solución es de complejidad O(n²) y es lento debido a las redundancias, es más fácil verlo en una gráfica, se aprecia algo parecido a un árbol binario."
   ]
  },
  {
   "cell_type": "markdown",
   "id": "85cac70b-6f7f-40c2-a296-2bf1eefa04a2",
   "metadata": {},
   "source": [
    "![llamadas en Fibonacci Comun](./images/fiboComun.png \"llamadas en Fibonacci Comun\")"
   ]
  },
  {
   "cell_type": "markdown",
   "id": "952aa6f2-9f70-4132-98be-1569e120077b",
   "metadata": {
    "jp-MarkdownHeadingCollapsed": true,
    "tags": []
   },
   "source": [
    "### Solución usando _top-down_"
   ]
  },
  {
   "cell_type": "markdown",
   "id": "6f33bfd6-8baf-4939-a791-54a65fae3013",
   "metadata": {},
   "source": [
    "Ya que hay partes que se calculan más de una vez en el código anterior, y los valores no cambiarán nunca, entonces podemos optimizar quitando todos esos computos que se repiten, podemos usar un cache para almacenar los datos ya calculados y no estar computandolos una y otra y otra y otra y otra vez..."
   ]
  },
  {
   "cell_type": "code",
   "execution_count": 13,
   "id": "c0f1aa4b-09a7-4392-a2eb-a6ebf2f1c446",
   "metadata": {},
   "outputs": [],
   "source": [
    "cacheFiboTD = {}\n",
    "\n",
    "def fiboTopDown(numero):\n",
    "    if numero <= 2:\n",
    "        return 1\n",
    "    if numero not in cacheFiboTD:\n",
    "        cacheFiboTD[numero] = fiboTopDown(numero - 1) + fiboTopDown(numero - 2)\n",
    "    return cacheFiboTD[numero]"
   ]
  },
  {
   "cell_type": "code",
   "execution_count": 14,
   "id": "a1dfbf4b-6364-40cc-ab1d-b4a0f83d7177",
   "metadata": {},
   "outputs": [
    {
     "data": {
      "text/plain": [
       "8"
      ]
     },
     "execution_count": 14,
     "metadata": {},
     "output_type": "execute_result"
    }
   ],
   "source": [
    "fiboTopDown(6)"
   ]
  },
  {
   "cell_type": "markdown",
   "id": "115572a4-470b-4103-bbdb-b2382c71387a",
   "metadata": {},
   "source": [
    "Veamos el grafo de este código para que sea más notoria la optimización. Este código tiene complejidad O(N) ya que solo es necesaria una función que es llamada para computar el debido número, pero si el número está en cache, entonces le tomará solo O(1). si nos pusieramos estrictos en cuestiones decódigo, esta solución puede mejorarse implementando _built-in_, pero el motivo de esto es mostrar el uso de programación dinamica, no mostrar el mejor uso de python. Por lo que dejaremos como tal ese código. "
   ]
  },
  {
   "cell_type": "markdown",
   "id": "7206c1cb-6ab3-45d6-92da-104f10115be3",
   "metadata": {},
   "source": [
    "![llamadas en Fibonacci Top Down](./images/fiboTD.png \"llamadas en Fibonacci Top Down\")"
   ]
  },
  {
   "cell_type": "markdown",
   "id": "55712c3d-3a03-4494-9984-da51260622cd",
   "metadata": {
    "tags": []
   },
   "source": [
    "### solución usando _bottom-up_"
   ]
  },
  {
   "cell_type": "markdown",
   "id": "44ec47d1-78ff-4a45-8eb5-80a3cfe9bad3",
   "metadata": {},
   "source": [
    "Aunque usando Top-Down es más fácil de comprender y por ende de implementar, a veces Bottom-Up nos da tiempos mejores.\n",
    "\n",
    "Para esta solución en especifico, no es necesario almacenar toda la serie comnpleta, podemos solo guardar los últimos dos números, para esto es necesario tomar el subproblema más pequeño, los dos primeros números, e ir expandiendo esto hasta el n-esimo número que es el solicitado, veamos el código:"
   ]
  },
  {
   "cell_type": "code",
   "execution_count": 18,
   "id": "b2d1e3e2-5ece-4429-81a3-9c32de9258cc",
   "metadata": {},
   "outputs": [],
   "source": [
    "def fiboBP(n):\n",
    "    anterior = 1\n",
    "    actual = 1\n",
    "    for i in range(n - 2):\n",
    "        siguiente = actual + anterior\n",
    "        anterior, actual = actual, siguiente\n",
    "    return actual"
   ]
  },
  {
   "cell_type": "code",
   "execution_count": 19,
   "id": "db788d79-ef45-4ae6-9d71-299f631153f3",
   "metadata": {},
   "outputs": [
    {
     "data": {
      "text/plain": [
       "8"
      ]
     },
     "execution_count": 19,
     "metadata": {},
     "output_type": "execute_result"
    }
   ],
   "source": [
    "fiboBP(6)"
   ]
  },
  {
   "cell_type": "markdown",
   "id": "4735619a-40a8-4ccc-9490-715c7fb11cd7",
   "metadata": {},
   "source": [
    "Esta solución tiene una complejidad de O(1)."
   ]
  },
  {
   "cell_type": "markdown",
   "id": "54fb1524-46b3-4424-b261-e1eb077a3ae2",
   "metadata": {
    "jp-MarkdownHeadingCollapsed": true,
    "tags": []
   },
   "source": [
    "## ¿Podemos juntar programación Dinamica y BFS/DFS ?"
   ]
  },
  {
   "cell_type": "markdown",
   "id": "0c4bf559-ec6d-44b8-aa01-678a0cd7e6e7",
   "metadata": {},
   "source": [
    "Un problema común en procesadores de texto es el poder partir palabras complejas sin espacios en las palabras que la conforman, aunque esto suena un poco _extraño_ veamoslo en inglés, dado un string \"helloWorld\" dado un diccionario [\"hello\", \"goodbye\", \"world\"] entonces deberíamos tener de salida: [\"hello\", \"world\"].  \n",
    "Recuerda que lo mejor es resolver sub problemas, si quieremos implementar programación dinamica y BFS/DFS entonces, lo mejor es realizar primero la solución con dinamica y luego vemos como hacer un _refactor_ para agregarle esa busqueda de caminos."
   ]
  },
  {
   "cell_type": "markdown",
   "id": "b32469d7-86ad-4c5c-8612-1612bb66c886",
   "metadata": {
    "jp-MarkdownHeadingCollapsed": true,
    "tags": []
   },
   "source": [
    "### Algoritmo"
   ]
  },
  {
   "cell_type": "markdown",
   "id": "a7c6fcca-3211-47d8-b7ca-d124d4d22bde",
   "metadata": {},
   "source": [
    "1. Dada una oración sin espacios, leer de izquierda a derecha y comparar si existe en el diccionario con cada letra revisada\n",
    "    1. Si existe, tomar la primera palabra, pensando en que el diccionario está ordenado\n",
    "2. quitar de la oración la palabra encontrada\n",
    "3. revisar si se encuentra una siguiente palabra en el diccionario\n",
    "    1. Sí, entonces repetir paso 2.\n",
    "    2. no, entonces regresar la palabra retirada en el paso 2, agregarle una letra y buscar de nuevo en el diccionario.\n",
    "        1. Si se encuentra en el diccionario una palabra = a palabra + letra extra, entonces tomarlo como palabra y regresar al paso 2\n",
    "        2. si no, regresar al 3.B"
   ]
  },
  {
   "cell_type": "code",
   "execution_count": 25,
   "id": "84cec85f-60af-4502-b90b-07f3b6cbb681",
   "metadata": {},
   "outputs": [],
   "source": [
    "from functools import lru_cache\n",
    "\n",
    "def oracionApalabras(diccionario, oracion):\n",
    "    @lru_cache(maxsize=None)\n",
    "    def helper(oracion):\n",
    "        if not oracion:\n",
    "            return []\n",
    "        for palabra in diccionario:\n",
    "            if oracion.startswith(palabra):\n",
    "                sufijo = oracion[len(palabra):]\n",
    "                split = oracionApalabras(diccionario, sufijo)\n",
    "                if split is not None:\n",
    "                    return[palabra] + split\n",
    "        return None\n",
    "    return helper(oracion)"
   ]
  },
  {
   "cell_type": "code",
   "execution_count": 23,
   "id": "f07ca7f4-a4fb-41a3-9ccf-7803b0a3e421",
   "metadata": {},
   "outputs": [],
   "source": [
    "diccionary = [\"cat\", \"cats\", \"eat\", \"mice\"]\n",
    "sentence = \"catseatmice\""
   ]
  },
  {
   "cell_type": "code",
   "execution_count": 26,
   "id": "f7e32678-be95-4edb-bef0-4a7f8a7a86b5",
   "metadata": {},
   "outputs": [
    {
     "data": {
      "text/plain": [
       "['cats', 'eat', 'mice']"
      ]
     },
     "execution_count": 26,
     "metadata": {},
     "output_type": "execute_result"
    }
   ],
   "source": [
    "oracionApalabras(diccionary,sentence)"
   ]
  },
  {
   "cell_type": "markdown",
   "id": "b98d349e-7a51-48a1-971c-564b71289790",
   "metadata": {},
   "source": [
    "Si quisieramos analizar la complejidad de este algoritmo hay que pensar en que tan profundo tienen que llegar las llamadas recursivas, y dicha profundidad va estar limitada por el tamaño en strings de la oración, llamemos esto n, ahora, en el peor caso habría palabras de 1 sola letra (sé que suena raro, pero en algunos idiomas es normal), entonces se itera m pasos, con lo que podríamos decir que la complejidad es O(nm), cabe mecionar que esta solución es _top-down_"
   ]
  },
  {
   "cell_type": "markdown",
   "id": "8c7e45a4-e66b-43f0-9bf8-92cd93492399",
   "metadata": {
    "jp-MarkdownHeadingCollapsed": true,
    "tags": []
   },
   "source": [
    "### Refactory (bottomUp + BFS)"
   ]
  },
  {
   "cell_type": "code",
   "execution_count": 28,
   "id": "0a7a2428-36ae-4c2f-8180-f89a17939b4b",
   "metadata": {},
   "outputs": [],
   "source": [
    "import collections\n",
    "\n",
    "def oracionPalabraV2(diccionario, oracion):\n",
    "    splits = {\"\": []} #Lista de palabras que conforman un sufijo\n",
    "    prefijosAProcesar = collections.deque([\"\"])\n",
    "    while prefijosAProcesar:\n",
    "        prefijo = prefijosAProcesar.popleft()\n",
    "        if prefijo == oracion:\n",
    "            return splits[prefijo] #Regresamos el primer resultado\n",
    "        for palabra in diccionario:\n",
    "            if oracion[len(prefijo):].startswith(palabra):\n",
    "                siguientePrefijo = prefijo + palabra #AGregamos solamente el siguiente prefijo a ser procesado, evitar computos redundantes\n",
    "                if siguientePrefijo not in splits:\n",
    "                    splits[siguientePrefijo] = splits[prefijo] + [palabra]\n",
    "                    prefijosAProcesar.append(siguientePrefijo)\n",
    "                    \n",
    "    return None"
   ]
  },
  {
   "cell_type": "code",
   "execution_count": 29,
   "id": "91209160-6b69-41cb-af16-9fd74ec89db4",
   "metadata": {},
   "outputs": [
    {
     "data": {
      "text/plain": [
       "['cats', 'eat', 'mice']"
      ]
     },
     "execution_count": 29,
     "metadata": {},
     "output_type": "execute_result"
    }
   ],
   "source": [
    "oracionPalabraV2(diccionary,sentence)"
   ]
  },
  {
   "cell_type": "markdown",
   "id": "ff8b3f61-fd58-4eca-911e-3a4989d57845",
   "metadata": {},
   "source": [
    "En este problema estamos trabajando el espacio como un grafo, usando BFS nos aseguramos de obtener el menor número posible de _cortes_ en la oración, también es posible usar DFS"
   ]
  }
 ],
 "metadata": {
  "kernelspec": {
   "display_name": "Python 3 (ipykernel)",
   "language": "python",
   "name": "python3"
  },
  "language_info": {
   "codemirror_mode": {
    "name": "ipython",
    "version": 3
   },
   "file_extension": ".py",
   "mimetype": "text/x-python",
   "name": "python",
   "nbconvert_exporter": "python",
   "pygments_lexer": "ipython3",
   "version": "3.9.7"
  }
 },
 "nbformat": 4,
 "nbformat_minor": 5
}
