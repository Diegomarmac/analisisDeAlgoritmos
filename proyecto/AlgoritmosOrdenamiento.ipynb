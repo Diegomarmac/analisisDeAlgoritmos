{
 "cells": [
  {
   "cell_type": "markdown",
   "id": "20da8528-b75e-4276-a078-667a35995547",
   "metadata": {
    "tags": []
   },
   "source": [
    "# Algoritmos de Ordenamiento"
   ]
  },
  {
   "cell_type": "markdown",
   "id": "bdc925a2",
   "metadata": {
    "jp-MarkdownHeadingCollapsed": true,
    "tags": []
   },
   "source": [
    "## MergeSort"
   ]
  },
  {
   "cell_type": "code",
   "execution_count": 3,
   "id": "cef3c318",
   "metadata": {},
   "outputs": [
    {
     "data": {
      "text/plain": [
       "mergesort (generic function with 1 method)"
      ]
     },
     "execution_count": 3,
     "metadata": {},
     "output_type": "execute_result"
    }
   ],
   "source": [
    "function mergesort(arreglo::Vector)\n",
    "\tif length(arreglo) <= 1 return arreglo end\n",
    "\tmitad = floor(Int,length(arreglo) / 2)\n",
    "\tsubArregloIzquierdo = mergesort(arreglo[1:mitad])\n",
    "\tsubArregloDerecho = mergesort(arreglo[mitad+1:end])\n",
    "\tresultado = similar(arreglo) #Necesitamos inicializar un arreglo, que es el que regresaremos con las cifras ordenadas\n",
    "\ti = indiceDerecho = indiceIzquierdo = 1\n",
    "\t@inbounds while indiceIzquierdo <= length(subArregloIzquierdo) && indiceDerecho <= length(subArregloDerecho)\n",
    "\t\tif subArregloIzquierdo[indiceIzquierdo] <= subArregloDerecho[indiceDerecho]\n",
    "\t\t\tresultado[i] = subArregloIzquierdo[indiceIzquierdo]\n",
    "\t\t\tindiceIzquierdo += 1\n",
    "\t\telse\n",
    "\t\t\tresultado[i] = subArregloDerecho[indiceDerecho]\n",
    "\t\t\tindiceDerecho += 1\n",
    "\t\tend\n",
    "\t\ti += 1\n",
    "\tend\n",
    "\tif indiceIzquierdo <= length(subArregloIzquierdo)\n",
    "\t\tresultado[i:end] = subArregloIzquierdo[indiceIzquierdo:end]\n",
    "\telse\n",
    "\t\tresultado[i:end] = subArregloDerecho[indiceDerecho:end]\n",
    "\tend\n",
    "\treturn resultado \n",
    "end"
   ]
  },
  {
   "cell_type": "code",
   "execution_count": 1,
   "id": "3296a720",
   "metadata": {},
   "outputs": [
    {
     "data": {
      "text/plain": [
       "10-element Vector{Int64}:\n",
       "  8\n",
       "  0\n",
       "  0\n",
       "  4\n",
       "  5\n",
       " -7\n",
       "  9\n",
       "  7\n",
       " 10\n",
       " -2"
      ]
     },
     "execution_count": 1,
     "metadata": {},
     "output_type": "execute_result"
    }
   ],
   "source": [
    "arregloAleatorio = rand(-10:10, 10)"
   ]
  },
  {
   "cell_type": "code",
   "execution_count": 4,
   "id": "50f1ea0f",
   "metadata": {},
   "outputs": [
    {
     "data": {
      "text/plain": [
       "10-element Vector{Int64}:\n",
       " -7\n",
       " -2\n",
       "  0\n",
       "  0\n",
       "  4\n",
       "  5\n",
       "  7\n",
       "  8\n",
       "  9\n",
       " 10"
      ]
     },
     "execution_count": 4,
     "metadata": {},
     "output_type": "execute_result"
    }
   ],
   "source": [
    "mergesort(arregloAleatorio)"
   ]
  },
  {
   "cell_type": "markdown",
   "id": "b7911608",
   "metadata": {
    "jp-MarkdownHeadingCollapsed": true,
    "tags": []
   },
   "source": [
    "## Binary Search"
   ]
  },
  {
   "cell_type": "code",
   "execution_count": null,
   "id": "a08a2085",
   "metadata": {},
   "outputs": [
    {
     "name": "stdout",
     "output_type": "stream",
     "text": [
      "Vamos a jugar, seleccione una dificultad:\n",
      "Para juego rápido pulse 'r' \n",
      "Para juego medio pulse 'm' \n",
      "Para juego tedioso pulse 't' \n"
     ]
    }
   ],
   "source": [
    "function guessTheNumber(limiteSuperior, limiteInferior)\n",
    "    variableABuscar = limiteInferior + ((limiteSuperior - limiteInferior)/2) #El principio de BInary Search se basa en irnos a mitades hacia arriba o hacia abajo, usamos ese principio\n",
    "    variableABuscar = trunc(Int,variableABuscar) # Con esto convertimos el resultado a Entero\n",
    "    println(\"El número a buscar es: \", variableABuscar, \"?\")\n",
    "    println(\"Presione 'g' si el número a buscar es más grande\")\n",
    "    println(\"Presione 'b' si el número a buscar es más bajo\")\n",
    "    println(\"Presione 'c' si el número a buscar es el correcto\")\n",
    "    respuesta = chomp(readline())\n",
    "    while respuesta ∉ [\"c\", \"b\", \"g\"] #Que el usuario SOLAMENTE pueda ingresar las opciones que queremos\n",
    "        print(\"Por favor seleccione solamente \\\"c\\\", \\\"b\\\", o \\\"g\\\". \")\n",
    "        respuesta = chomp(readline())\n",
    "    end\n",
    "    if respuesta == \"c\" # Esto es solamente gestión de entrada, si ya se encontró el número, entonces, GAME OVER\n",
    "        println(\"Genial ya encontramos el número!\")\n",
    "    elseif respuesta == \"b\"\n",
    "        limiteSuperior = variableABuscar\n",
    "        guessTheNumber(limiteSuperior, limiteInferior) # Si el númeroa buscar es menor, entonces tomamos el número dado como el limite superior para la siguiente busqueda\n",
    "    else\n",
    "        limiteInferior = variableABuscar\n",
    "        guessTheNumber(limiteSuperior,limiteInferior) # Si el númeroa buscar es mayor, entonces tomamos el número dado como el limite inferior para la siguiente busqueda\n",
    "    end\n",
    "end\n",
    "######################### Lo de aca abajo es solo para testing\n",
    "println(\"Vamos a jugar, seleccione una dificultad:\")\n",
    "println(\"Para juego rápido pulse 'r' \")\n",
    "println(\"Para juego medio pulse 'm' \")\n",
    "println(\"Para juego tedioso pulse 't' \")\n",
    "dificultadDelJuego = chomp(readline()) #Esto solo para añadirle más opciones para el usuario\n",
    "while dificultadDelJuego ∉ [\"r\", \"m\", \"t\"]\n",
    "    print(\"Por favor seleccione solamente \\\"r\\\", \\\"m\\\", o \\\"t\\\". \")\n",
    "    dificultadDelJuego = chomp(readline())\n",
    "end\n",
    "if dificultadDelJuego == \"r\"\n",
    "    arreglo = collect(1:10)\n",
    "elseif dificultadDelJuego == \"m\"\n",
    "    arreglo = collect(1:100)\n",
    "else\n",
    "    arreglo = collect(1:1000)\n",
    "end\n",
    "\n",
    "println(\"Piensa en un número entre 1 y\",length(arreglo),\"... listo ? comencemos !\")\n",
    "guessTheNumber(length(arreglo),0)"
   ]
  },
  {
   "cell_type": "markdown",
   "id": "9fdeae0f-52b7-4787-94a1-acacaf69bbce",
   "metadata": {
    "jp-MarkdownHeadingCollapsed": true,
    "tags": []
   },
   "source": [
    "### Una mutación interesante de BinarySearch para dos arreglos"
   ]
  },
  {
   "cell_type": "markdown",
   "id": "55283f28-5663-429a-afdb-8023ffc0cf5e",
   "metadata": {},
   "source": [
    "[Click para ver el archivo](./BusquedaElementoDosArreglos.ipynb)"
   ]
  },
  {
   "cell_type": "markdown",
   "id": "e8ccd274",
   "metadata": {
    "jp-MarkdownHeadingCollapsed": true,
    "tags": []
   },
   "source": [
    "## Counting Sort"
   ]
  },
  {
   "cell_type": "code",
   "execution_count": null,
   "id": "b858bdb3",
   "metadata": {},
   "outputs": [],
   "source": [
    "function countsort(arreglo::Vector{Int64})\n",
    "    min, max = extrema(arreglo) #Aquí obtenemos el min y el max del arreglo, de un somin golpe\n",
    "    arregloOrdenado = fill(0,length(arreglo)) # Inicializamos el arreglo a regresar con ceros, del mismo tamaño que el arrelo a ordenar\n",
    "    contador = zeros(eltype(arreglo), max - min + 1) # Inicializamos un arreglo contador de tipo Int64 del tamaño de la diferencia de los extremos + 1\n",
    "    for i in arreglo\n",
    "        contador[i-min+1] += 1 \n",
    "    end\n",
    "    z = 1 # Debiera ser 0 que es donde inician los index de los arreglos, pero en Julia inician en 1\n",
    "    for i in min:max\n",
    "        while contador[i-min+1] > 0\n",
    "            arregloOrdenado[z] = i\n",
    "            z += 1\n",
    "            contador[i-min+1] -= 1\n",
    "        end\n",
    "    end\n",
    "    return arregloOrdenado\n",
    "end\n",
    " \n",
    "################## Problema de los 2 arreglos y su suma máxima\n",
    "#arregloUno = rand(1:20,10)\n",
    "#arregloDos = rand(1:20,10)\n",
    "#println(\"Arreglos desordenados $arregloUno\")\n",
    "#println(arregloDos)\n",
    "#arregloUno = countsort(arregloUno)\n",
    "#arregloDos = countsort(arregloDos)\n",
    "#println(\"Arreglos Ordenados\")\n",
    "#println(arregloUno)\n",
    "#println(arregloDos)\n",
    "#maximaUno = last(arregloUno)\n",
    "#maximaDos = last(arregloDos)\n",
    "#println(\"La suma máxima es $(maximaUno + maximaDos) \")\n",
    "\n",
    "#########################\n",
    "#v = rand(1:50, 20)\n",
    "#println(\"Arreglo de Enteros Desordenados: $v\\n Ya ordenados: $(countsort(v))\")"
   ]
  },
  {
   "cell_type": "markdown",
   "id": "35718b21-8f18-4a45-9083-b8669ac1209f",
   "metadata": {},
   "source": [
    "### Más información sobre CountingSort y el problema de los mil cumpleaños"
   ]
  },
  {
   "cell_type": "markdown",
   "id": "ef41c59b-689a-46fc-9ac7-e90e2b9b8b2a",
   "metadata": {},
   "source": [
    "[Click para ver el archivo](./elProblemaDeLosMilCumpleaños.ipynb)"
   ]
  },
  {
   "cell_type": "markdown",
   "id": "ed3c4cb7",
   "metadata": {
    "jp-MarkdownHeadingCollapsed": true,
    "tags": []
   },
   "source": [
    "## Radix"
   ]
  },
  {
   "cell_type": "code",
   "execution_count": null,
   "id": "a15be47d",
   "metadata": {},
   "outputs": [],
   "source": [
    "function radixsort(ordenar::Vector{Int})\n",
    "    arreglo = deepcopy(ordenar)\n",
    "    for cambio in 63:-1:0\n",
    "        temporal = Vector{Int}(undef, length(arreglo))\n",
    "        j = 0\n",
    "        for i in 1:length(arreglo)\n",
    "            if (cambio == 0) == ((arreglo[i] << cambio) >= 0)\n",
    "                arreglo[i - j] = arreglo[i]\n",
    "            else\n",
    "                temporal[j + 1] = arreglo[i]\n",
    "                j += 1\n",
    "            end\n",
    "        end\n",
    "        temporal[j+1:end] .= arreglo[1:length(temporal)-j]\n",
    "        arreglo = temporal\n",
    "    end\n",
    "    arreglo\n",
    "end\n",
    " \n",
    "####### Prueba con 2 subarreglos\n",
    "#function test()\n",
    "#    arrays = [[1180, 450, -705, -90, -802, 24, 2, 66], [-4, 5, -26, 58, -990, 331, 331, 990, -1837, 2028]]\n",
    "#    for array in arrays \n",
    "#        println(radixsort(array))\n",
    "#    end\n",
    "#end\n",
    " \n",
    "####### Prueba n^2\n",
    "#array = rand(1:2^10, 100)\n",
    "#println(radixsort(array))"
   ]
  },
  {
   "cell_type": "markdown",
   "id": "2d7bf577-dd20-4cce-acbe-af347519a1c6",
   "metadata": {},
   "source": [
    "### Ordenar números entre 1 y n²"
   ]
  },
  {
   "cell_type": "markdown",
   "id": "f7ae13ca-6ba9-4359-b2d5-f66207f3562e",
   "metadata": {},
   "source": [
    "[Click para ver el archivo](./OrdenarNumeros1YNCuadrado.ipynb) "
   ]
  },
  {
   "cell_type": "markdown",
   "id": "62535a67-04b0-4eb9-8f84-d940639172ff",
   "metadata": {
    "jp-MarkdownHeadingCollapsed": true,
    "tags": []
   },
   "source": [
    "## HeapSort & Quicksort"
   ]
  },
  {
   "cell_type": "markdown",
   "id": "afc3b780-e9da-45cf-b888-8408465efadb",
   "metadata": {},
   "source": [
    "[Click para ver el archivo](./notasDeAnalisisDeAlgoritmosPT1.ipynb)"
   ]
  },
  {
   "cell_type": "markdown",
   "id": "6e73a42c-f497-4269-87a1-d0aba2d8ab96",
   "metadata": {
    "jp-MarkdownHeadingCollapsed": true,
    "tags": []
   },
   "source": [
    "## Un algoritmo para *ordenar* colores"
   ]
  },
  {
   "cell_type": "markdown",
   "id": "7777beb4-e528-4157-aa23-8e80070b7d2d",
   "metadata": {},
   "source": [
    "Ya que vamos a ordenar colores, resulta *extraño* si trabajamos con números, es decir asignando un número por color, por lo que he decidido impĺementarlo usando la letra inicial de cada color.  \n",
    "En el problema tenemos: Azules, Verdes y Rojos., Así usando el mismo orden en que los escribí tenemos en el código: a,v & r.\n",
    "\n",
    "La implementación es una *mutación* de radix, en la que se van a guardar los indices ordenados y solo se reasigna a un nuevo arreglo las letras de cada indice."
   ]
  },
  {
   "cell_type": "markdown",
   "id": "33a6304f-3e27-47c8-85e2-455d86319706",
   "metadata": {
    "jp-MarkdownHeadingCollapsed": true,
    "tags": []
   },
   "source": [
    "### Un poco más a fondo"
   ]
  },
  {
   "cell_type": "markdown",
   "id": "4f079c75-589c-4d95-8195-6a315b394bff",
   "metadata": {},
   "source": [
    "Tomemos un caso simple (notemos que el caso más simple es el vacío, seguido del caso donde el arreglo de a lo más 3 elementos, un elemento de cada color) un arreglo de 3 elementos:  \n",
    "\n",
    "- Rojo\n",
    "- Azul\n",
    "- Verde\n",
    "\n",
    "Y se nos pide ordenarlo de la sigueitne forma: Verde,Rojo,Azul.\n",
    "\n",
    "El algoritmo lo que hará es tomar el indice de cada elemento, es decir tendremos: Rojo = 0, Azul = 1 & Verde = 2 y nos regresará un arreglo para cada color con los respectivos indices, en este caso 3 arreglos  \n",
    "Ahora, solamente hacemos swap de los indices con los colores para obtener la lista de colores ordenada. De modo que si tenemos 2,1,0, (pensando en un arreglo ordenado) tomará esos indices para realizar swap y que quede el elemento de indice 2 (es decirl el verde en nuestro caso) en primero, el elemento de indice 1 después y al final el elemento de indice 0, con lo que habríamos acabado."
   ]
  },
  {
   "cell_type": "markdown",
   "id": "f1be4984-a431-4795-814e-ed362f0f8f88",
   "metadata": {
    "jp-MarkdownHeadingCollapsed": true,
    "tags": []
   },
   "source": [
    "### Código e implementación"
   ]
  },
  {
   "cell_type": "code",
   "execution_count": 3,
   "id": "0b5a2483-615b-4e26-ada2-8c5c0b0ecb1f",
   "metadata": {},
   "outputs": [
    {
     "data": {
      "text/plain": [
       "sortingColores (generic function with 1 method)"
      ]
     },
     "execution_count": 3,
     "metadata": {},
     "output_type": "execute_result"
    }
   ],
   "source": [
    "function color(arreglo,indice)\n",
    "    temporal = arreglo[indice]\n",
    "end\n",
    "\n",
    "function intercambio(arreglo,arregloCopia,i,j)\n",
    "    arreglo[i] = arregloCopia[j]\n",
    "end\n",
    "\n",
    "function sortingColores(arregloAOrdenar)\n",
    "    arregloConIndices = []\n",
    "    arregloDeErrores  = []\n",
    "    arregloDeRojos    = []\n",
    "    arregloDeVerdes   = []\n",
    "    arregloDeAzules   = []\n",
    "    i = 1\n",
    "    \n",
    "    arregloCopy = deepcopy(arregloAOrdenar)\n",
    "\n",
    "    for index in eachindex(arregloAOrdenar)\n",
    "        if color(arregloAOrdenar, index) == \"r\" \n",
    "            append!(arregloDeRojos, index)\n",
    "        elseif color(arregloAOrdenar, index) == \"v\"\n",
    "            append!(arregloDeVerdes, index)\n",
    "        elseif color(arregloAOrdenar, index) == \"a\" \n",
    "            append!(arregloDeAzules, index)\n",
    "        else                                           \n",
    "            append!(arregloDeErrores,index)             # Esto es opcional, como gestión de errores o casos extraños\n",
    "        end\n",
    "    end\n",
    "\n",
    "    # Creamos un arreglo para cada color para que no se vea límitado por un orden en especifico, solo hay que dar el orden impuesto en los siguientes appends y listo !\n",
    "    \n",
    "    append!(arregloConIndices,arregloDeVerdes)   # Queremos que primero vayan todos los verdes \n",
    "    append!(arregloConIndices,arregloDeRojos)    # En segundo lugar todos los rojos  \n",
    "    append!(arregloConIndices,arregloDeAzules)   # Y por úlitmo los Azules, cambiar estos appends si tu problema te lo pide.   \n",
    "\n",
    "    for element in arregloConIndices                   \n",
    "        intercambio(arregloAOrdenar,arregloCopy,i,element) # Just a Swap utlity\n",
    "        i+=1\n",
    "    end\n",
    "\n",
    "    return arregloAOrdenar\n",
    "    \n",
    "end"
   ]
  },
  {
   "cell_type": "code",
   "execution_count": 4,
   "id": "815db888-9846-44b8-9420-5432904b7277",
   "metadata": {},
   "outputs": [
    {
     "name": "stdout",
     "output_type": "stream",
     "text": [
      "Arreglo de Colores Desordenados: [\"v\", \"r\", \"r\", \"a\", \"a\"]\n",
      " Ya ordenados: [\"v\", \"r\", \"r\", \"a\", \"a\"]\n"
     ]
    }
   ],
   "source": [
    "arregloDeColores = [\"a\",\"r\",\"v\",\"r\",\"a\"]\n",
    "println(\"Arreglo de Colores Desordenados: $arregloDeColores\\n Ya ordenados: $(sortingColores(arregloDeColores))\")"
   ]
  }
 ],
 "metadata": {
  "kernelspec": {
   "display_name": "Julia 1.6.2",
   "language": "julia",
   "name": "julia-1.6"
  },
  "language_info": {
   "file_extension": ".jl",
   "mimetype": "application/julia",
   "name": "julia",
   "version": "1.6.3"
  }
 },
 "nbformat": 4,
 "nbformat_minor": 5
}
