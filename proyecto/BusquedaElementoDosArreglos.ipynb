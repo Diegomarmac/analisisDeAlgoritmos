{
 "cells": [
  {
   "cell_type": "markdown",
   "id": "a0575aea-ac34-4dc6-b762-6cc268dd8398",
   "metadata": {
    "tags": []
   },
   "source": [
    "# Buscar un elemento que está en alguno de dos arreglos cuya unión forma un arreglo nuevo"
   ]
  },
  {
   "cell_type": "markdown",
   "id": "1786d4e0-1c97-4ee8-b5c5-efcc1185953f",
   "metadata": {
    "jp-MarkdownHeadingCollapsed": true,
    "tags": []
   },
   "source": [
    "## Sobre el algoritmo"
   ]
  },
  {
   "cell_type": "markdown",
   "id": "c905f0fa",
   "metadata": {
    "jp-MarkdownHeadingCollapsed": true,
    "tags": []
   },
   "source": [
    "Las primeras veces intentando este algoritmo llegaba a $\\theta(n)$ hasta que se me ocurrió usar una especie de _mutación_ de __binary search__, se me ocurrió ya que el tiempo de ese algoritmo es $\\theta(log n)$, lo solicitado es $\\theta(logn^2)$ y por propiedades de los algoritmos tenemos que:  \n",
    "$logn^2 = 2logn$  \n",
    "\n",
    "Que a su vez se puede reescribir como:\n",
    "$2logn = logn + logn$  \n",
    "\n",
    "Así un acercamiento es usar un algoritmo de busqueda en tiempo $logn$ que al ser ejecutado dos veces en el algoritmo se produzca esa suma, el único algoritmo de busqueda que se ma ha ocurrido es __binary search__  \n",
    "\n",
    "Ahora, como en el problema se menciona que tanto el arreglo A como el B son de mismo tamaño y ambos ya se encuentran ordenados, entonces podemos asumir que el n-esimo elemento en el conjunto A $\\bigcup$ B está dentro de los primeros n-esimos de A o de B, aquí algo importante, no podemos realizar la union de A con B en un supuesto arreglo C, ya que esto se puede ejecutar en un tiempo minimo de $\\theta(n)$ con lo que nos saldríamos de lo solicitado, por lo que hay que encontrar una formula de _aproximar_ el indice buscado sin crear un arreglo nuevo.  \n",
    "\n",
    "El principio de binary search es ir _partiendo en mitades_ el arreglo donde se busca hasta encontrar el elemento a buscar, de misma forma lo que estoy haciendo es comparar el n-ésimo / 2, por el mismo principio de que al buscarse el n, sería absurdo buscar en los indices superiores, ya que al estar ordenados, nos estariamos saliendo del _rango de busqueda_ entonces buscamos en mitades dentro de los primeros n-ésimos elementos de cada arreglo.  \n",
    "\n",
    "Así pues, al igual que en binary se necesitan los limites extremos, es decir, un limite inferior y un limite superior que se van actualizando, aquí tomamos como limite superior la longitud de cada arreglo, que para nuestro problema ambos son de tamaño n, y el limite inferior como lo que en el pseudocodigo denomino comparador, ya que es el que más va ir cambiando.\n",
    "\n",
    "Algo a notar es que a diferencia del binary search original, el elemento a buscar lo estoy dividiendo con 2, lo que nos va dando las mitades donde buscar, a cada mitad, se toma numeroABuscar/2 como el indice a revisar, y aquí es donde ocurre una especie de ordenamiento implicito, se buscan los n-1 menores, es decir $n_0$ sería el número más pequeño y se van acomodando (esto es solo un decir) hasta el $n_{n-1}$ ya que el $n_n$ es el elemento a buscar.\n",
    "\n",
    "Veamoslo con un ejemplo, tomemos dos arreglos A y B de tamaño n.  \n",
    "\n",
    "arregloA = $[n_0, ... , n]$  \n",
    "\n",
    "arregloB = $[n'_0, ... , n']$  \n",
    "\n",
    "Donde no necesariamente $n_i$ = $n'_i$ y donde toda n pertenece a los reales  \n",
    "\n",
    "Ahora dado un elementoABuscar = k (para no confundir con muchas n's)  \n",
    "\n",
    "Así binary = elementoAbuscar/2\n",
    "\n",
    "y revisamos si ArregloA[binary] < arregloB[binary], algo importante aquí es que si binary = 1, entonces tendríamos al elemento más pequeño de ambos arreglos, en caso de ser la primera busqueda  \n",
    "\n",
    "y se va continuar iterando _eliminando_ los indices inferiores al buscado, es decir de forma implicita vamos _ordenando_ hasta obtener el elemento k, una vez encontrado se regresa, ahora pensando en $k+1$ tendriamos:\n",
    "\n",
    "arregloA = $[n_0, ... , n]$  \n",
    "\n",
    "arregloB = $[n'_0, ... , n']$  \n",
    "\n",
    "Donde no necesariamente $n_i$ = $n'_i$ y donde toda n pertenece a los reales\n",
    "\n",
    "Donde no necesariamente $n_i$ = $n'_i$ y donde toda n pertenece a los reales  \n",
    "\n",
    "Ahora dado un elementoABuscar = k+1 (para no confundir con muchas n's)  \n",
    "\n",
    "Así binary = elementoAbuscar/2\n",
    "\n",
    "y revisamos si ArregloA[binary] < arregloB[binary], algo importante aquí es que si binary = 1, entonces tendríamos al segundo elemento más pequeño de ambos arreglos, en caso de ser la primera busqueda  y se va continuar iterando _eliminando_ los indices inferiores al buscado, es decir de forma implicita vamos _ordenando_ hasta obtener el elemento k+1"
   ]
  },
  {
   "cell_type": "markdown",
   "id": "03bb11bc-d73f-491e-a494-44be49357675",
   "metadata": {
    "jp-MarkdownHeadingCollapsed": true,
    "tags": []
   },
   "source": [
    "## find(arregloA, arregloB, numeroABuscar, comparadorUno, comparadorDos)"
   ]
  },
  {
   "cell_type": "markdown",
   "id": "9f9be0fd-3c9f-4a76-ad9c-40eb6609e1e4",
   "metadata": {},
   "source": [
    "1. longitudA = length(arregloA)\n",
    "2. longitudB = length(arregloB)\n",
    "3. if (comparadorUno == longitudA) _Aquí se nos acabó el arregloA_\n",
    "    1. return arregloB[comparadorB + numeroABuscar - 1]\n",
    "4. if (comparadorDos == longitudB) _Aquí se nos acabó el arregloB\n",
    "    1. return arregloA[comparadorUno + numeroABuscar -1] \n",
    "5. if (numeroABuscar == 1)\n",
    "    1. if arregloA[comparadorUno] < arregloB[comparadorDos]\n",
    "        1. return arregloA[comparadorUno]\n",
    "    2. else\n",
    "        1. return arregloB[comparadorDos]\n",
    "6. binary = numeroABuscar/2\n",
    "7. if (binary - 1 >= longitudA - comparadorUno) _aquí verificamos que el tamaño de A sea o no menor que binary_\n",
    "    1. if (arregloA[longitudA - 1] < arregloB[comparadorDos + binary - 1])\n",
    "        1. return arregloB[comparadorDos + (numeroABuscar - (longitudA - comparadorUno) - 1 )]\n",
    "    2. else return find(arregloA, arregloB, numeroABuscar-binary, comparadorUno,comparadorDos+binary)\n",
    "8. if (binary -1 >= longitudB - comparadorDos) _aquí verificamos que el tamaño de B sea o no menor que binary_\n",
    "    1. if (arregloB[longitudB - 1] < arregloA[comparadorUno + binary - 1] )\n",
    "        1. return arregloA[comparadorUno + (numeroABuscar - comparadorDos) -1 ]\n",
    "    2. else return find(arregloA,arregloB,numeroABuscar - binary, comparadorUno + binary, comparadorDos )\n",
    "9. else \n",
    "    1. if (arregloA[binary + comparadorUno - 1] < arregloB[binary + comparadorDos - 1] )\n",
    "        1. return find(arregloA,arregloB, numeroABuscar - binary, comparadorUno + binary, comparadorDos)\n",
    "    2. else return find(arregloUno,arregloDos,numeroABuscar - binary, comparadorUno, comparadorDos + binary)\n",
    "10. FIN DE TODO"
   ]
  },
  {
   "cell_type": "markdown",
   "id": "2970ae40-2ca6-4e3e-b885-8e0a09d0da0a",
   "metadata": {},
   "source": [
    "### Nota al llamarse por primera vez la función"
   ]
  },
  {
   "cell_type": "markdown",
   "id": "8d5db20f-ba58-46fa-8540-d5f2070fddf2",
   "metadata": {},
   "source": [
    "No supe como poner esto en el pseudocodigo, que __solamente__ en la primera vez que se ejecute, deben inicializarse de esta manera las siguientes variables:  \n",
    "\n",
    "\n",
    "comparadorUno = 0 _si se programa en Julia, inicializar en 1_  \n",
    "\n",
    "\n",
    "comparadorDos = 0 _si se programa en Julia, inicializar en 1_"
   ]
  },
  {
   "cell_type": "markdown",
   "id": "231d2c23-dd33-4ed0-80c7-3d083a72a30a",
   "metadata": {
    "jp-MarkdownHeadingCollapsed": true,
    "tags": []
   },
   "source": [
    "## Código"
   ]
  },
  {
   "cell_type": "code",
   "execution_count": 1,
   "id": "d2b660f0-51b8-4b9e-a98c-91f211bfe5f9",
   "metadata": {},
   "outputs": [
    {
     "data": {
      "text/plain": [
       "find (generic function with 1 method)"
      ]
     },
     "execution_count": 1,
     "metadata": {},
     "output_type": "execute_result"
    }
   ],
   "source": [
    "function find(arregloA::Vector{Int},arregloB::Vector{Int},numeroABuscar::Int,limiteInferiorUno::Int,limiteInferiorDos::Int)\n",
    "    longitudA = length(arregloA)\n",
    "    longitudB = length(arregloB)\n",
    "    \n",
    "    if limiteInferiorUno == longitudA #Aquí se nos acabó el arregloA\n",
    "        return arregloB[limiteInferiorDos + numeroABuscar - 1]\n",
    "    end\n",
    "    if limiteInferiorDos == longitudB #Aquí se nos acabó el arregloA\n",
    "        return arregloA[limiteInferiorUno + numeroABuscar - 1]\n",
    "    end\n",
    "\n",
    "    if numeroABuscar == 1\n",
    "        if arregloA[limiteInferiorUno] < arregloB[limiteInferiorDos]\n",
    "            return arregloA[limiteInferiorUno]\n",
    "        else\n",
    "            return arregloB[limiteInferiorDos]\n",
    "        end\n",
    "    end\n",
    "    \n",
    "    binary = trunc(Int,numeroABuscar/2)\n",
    "\n",
    "    if (binary - 1) >= longitudA - limiteInferiorUno\n",
    "        if arregloA[longitudA] < arregloB[longitudB + (binary-1)]\n",
    "            return arregloB[limiteInferiorDos + (numeroABuscar - (longitudA - limiteInferiorUno) - 1 )]\n",
    "        else\n",
    "            return find(arregloA,arregloB,numeroABuscar-binary,limiteInferiorUno,limiteInferiorDos+binary)\n",
    "        end\n",
    "    end\n",
    "\n",
    "    if (binary - 1) >= longitudB - limiteInferiorDos\n",
    "        if arregloB[(longitudB - 1)] < arregloA[limiteInferiorUno + (binary-1)]\n",
    "            return arregloA[limiteInferiorUno + (numeroABuscar - limiteInferiorDos) - 1]\n",
    "        else\n",
    "            return find(arregloA,arregloB, numeroABuscar-binary, limiteInferiorUno+binary, limiteInferiorDos)\n",
    "        end\n",
    "    else\n",
    "        if arregloA[binary + (limiteInferiorUno - 1)] < arregloB[binary + (limiteInferiorDos - 1)]\n",
    "            return find(arregloA,arregloB,numeroABuscar - binary,limiteInferiorUno+binary, limiteInferiorDos)\n",
    "        else\n",
    "            return find(arregloA,arregloB,numeroABuscar-binary,limiteInferiorUno,limiteInferiorDos+binary)\n",
    "        end\n",
    "    end\n",
    "end"
   ]
  },
  {
   "cell_type": "markdown",
   "id": "00869750-8fb1-439c-957a-838ed74e254c",
   "metadata": {
    "jp-MarkdownHeadingCollapsed": true,
    "tags": []
   },
   "source": [
    "### Implementación en el problema"
   ]
  },
  {
   "cell_type": "code",
   "execution_count": 2,
   "id": "1c30e113-b52f-4005-8f50-fdf07e2af19f",
   "metadata": {},
   "outputs": [
    {
     "data": {
      "text/plain": [
       "100000-element Vector{Int64}:\n",
       "      1\n",
       "      2\n",
       "      3\n",
       "      4\n",
       "      5\n",
       "      6\n",
       "      7\n",
       "      8\n",
       "      9\n",
       "     10\n",
       "     11\n",
       "     12\n",
       "     13\n",
       "      ⋮\n",
       "  99989\n",
       "  99990\n",
       "  99991\n",
       "  99992\n",
       "  99993\n",
       "  99994\n",
       "  99995\n",
       "  99996\n",
       "  99997\n",
       "  99998\n",
       "  99999\n",
       " 100000"
      ]
     },
     "execution_count": 2,
     "metadata": {},
     "output_type": "execute_result"
    }
   ],
   "source": [
    "arregloA = collect(1:100000)\n",
    "arregloB = collect(1:100000)"
   ]
  },
  {
   "cell_type": "code",
   "execution_count": 3,
   "id": "40c822fb-e071-4c19-9f09-c19bde551692",
   "metadata": {},
   "outputs": [
    {
     "data": {
      "text/plain": [
       "81304"
      ]
     },
     "execution_count": 3,
     "metadata": {},
     "output_type": "execute_result"
    }
   ],
   "source": [
    "numeroABuscar = rand(1:100000)"
   ]
  },
  {
   "cell_type": "code",
   "execution_count": 4,
   "id": "ffe0cae6-640f-40d0-85d1-82b4faa0dcb9",
   "metadata": {},
   "outputs": [
    {
     "data": {
      "text/plain": [
       "1"
      ]
     },
     "execution_count": 4,
     "metadata": {},
     "output_type": "execute_result"
    }
   ],
   "source": [
    "limiteInferiorUno = 1\n",
    "limiteInferiorDos = 1"
   ]
  },
  {
   "cell_type": "code",
   "execution_count": 5,
   "id": "33f2519e-4f56-4f49-92a1-50adee2c7841",
   "metadata": {},
   "outputs": [
    {
     "name": "stdout",
     "output_type": "stream",
     "text": [
      "el n-esimo elemento 81303 está en\n",
      "40652\n",
      "de la union de A y B\n"
     ]
    }
   ],
   "source": [
    "println(\"el n-esimo elemento $(numeroABuscar-1) está en\")\n",
    "println(find(arregloA,arregloB, (numeroABuscar-1),limiteInferiorUno,limiteInferiorDos)) #Por los indices en Julia, le resto uno al número a buscar\n",
    "println(\"de la union de A y B\")"
   ]
  }
 ],
 "metadata": {
  "kernelspec": {
   "display_name": "Julia 1.6.2",
   "language": "julia",
   "name": "julia-1.6"
  },
  "language_info": {
   "file_extension": ".jl",
   "mimetype": "application/julia",
   "name": "julia",
   "version": "1.6.3"
  }
 },
 "nbformat": 4,
 "nbformat_minor": 5
}
