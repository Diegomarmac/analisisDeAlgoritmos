{
 "cells": [
  {
   "cell_type": "markdown",
   "id": "5b5e658b-d8e1-4566-bc01-d4b67fe65215",
   "metadata": {},
   "source": [
    "# Ordenar números entre 1 y $n²$"
   ]
  },
  {
   "cell_type": "markdown",
   "id": "e9fc1150",
   "metadata": {},
   "source": [
    "Hay veces en las que usar counting sort no nos ayuda, por el contrario, en el peor caso nos puede tomar demasiado tiempo, es así cuando el rango de elementos a ordenar es mayor que la cantidad de elementos, para este problema supongamos n = elementos a ordenar y $n^2$ el rango, no es necesario poner que sean enteros positivos, ya que todo número al cuadrado nos dará un entero positivo, además de que no podemos tener -n elementos en un arreglo.  \n",
    "En este caso es muy claro que no podemos usar counting sort, el otro algoritmo lineal que nos queda es __radix sort__, radix sort ordena de acuerdo al digito más significante y en subrutinas ordena, lo que lo hace especialmente rápido en casos donde el rango es mayor que la cantidad de elementos a ordenar, el cual es nuestro caso.  \n",
    "\n",
    "Radix sort tiene una complejidad de $\\theta(d(n+k))$ donde d es el tamaño de los digitos, es decir si tenemos el digito 123 su tamaño será de 3, así d = 3 en ese caso, como aquí no lo tenemos claro, se queda en __d__. n : número de elementos a ordenar, k : rango de los elementos a ordenar. Si tenemos un n y d lineales, entonces el algoritmo es lineal, como en este caso, ambos son lineales, el que difiere es el rango de los elementos."
   ]
  },
  {
   "cell_type": "markdown",
   "id": "111bc586",
   "metadata": {},
   "source": [
    "## Codigo"
   ]
  },
  {
   "cell_type": "code",
   "execution_count": 1,
   "id": "70efe9c2",
   "metadata": {},
   "outputs": [
    {
     "data": {
      "text/plain": [
       "radixsort (generic function with 1 method)"
      ]
     },
     "execution_count": 1,
     "metadata": {},
     "output_type": "execute_result"
    }
   ],
   "source": [
    "function radixsort(ordenar::Vector{Int})\n",
    "    arreglo = deepcopy(ordenar)\n",
    "    for cambio in 63:-1:0\n",
    "        temporal = Vector{Int}(undef, length(arreglo))\n",
    "        j = 0\n",
    "        for i in 1:length(arreglo)\n",
    "            if (cambio == 0) == ((arreglo[i] << cambio) >= 0)\n",
    "                arreglo[i - j] = arreglo[i]\n",
    "            else\n",
    "                temporal[j + 1] = arreglo[i]\n",
    "                j += 1\n",
    "            end\n",
    "        end\n",
    "        temporal[j+1:end] .= arreglo[1:length(temporal)-j]\n",
    "        arreglo = temporal\n",
    "    end\n",
    "    arreglo\n",
    "end"
   ]
  },
  {
   "cell_type": "code",
   "execution_count": 2,
   "id": "397dc004",
   "metadata": {},
   "outputs": [
    {
     "data": {
      "text/plain": [
       "10-element Vector{Int64}:\n",
       " 33\n",
       " 29\n",
       " 54\n",
       " 44\n",
       " 71\n",
       " 12\n",
       " 87\n",
       "  1\n",
       " 85\n",
       " 37"
      ]
     },
     "execution_count": 2,
     "metadata": {},
     "output_type": "execute_result"
    }
   ],
   "source": [
    "array = rand(1:100, 10)"
   ]
  },
  {
   "cell_type": "code",
   "execution_count": 3,
   "id": "6f2398e7",
   "metadata": {},
   "outputs": [
    {
     "name": "stdout",
     "output_type": "stream",
     "text": [
      "[1, 12, 29, 33, 37, 44, 54, 71, 85, 87]\n"
     ]
    }
   ],
   "source": [
    "println(radixsort(array))"
   ]
  }
 ],
 "metadata": {
  "kernelspec": {
   "display_name": "Julia 1.6.2",
   "language": "julia",
   "name": "julia-1.6"
  },
  "language_info": {
   "file_extension": ".jl",
   "mimetype": "application/julia",
   "name": "julia",
   "version": "1.6.3"
  }
 },
 "nbformat": 4,
 "nbformat_minor": 5
}
