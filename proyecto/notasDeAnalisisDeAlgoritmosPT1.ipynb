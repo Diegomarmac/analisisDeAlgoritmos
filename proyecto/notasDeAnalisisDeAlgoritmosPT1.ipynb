{
 "cells": [
  {
   "cell_type": "markdown",
   "id": "8fa4dc5e-bc2e-45a9-891e-24110e8a0ed1",
   "metadata": {
    "tags": []
   },
   "source": [
    "# Introducción a la teoría de algoritmos"
   ]
  },
  {
   "cell_type": "markdown",
   "id": "131318c3-6fd5-4e22-b1c3-2b15d8399777",
   "metadata": {
    "jp-MarkdownHeadingCollapsed": true,
    "tags": []
   },
   "source": [
    "## Tesis Church-Turing"
   ]
  },
  {
   "cell_type": "markdown",
   "id": "fa31575e-cd7c-4f02-a9c3-09c37a7c06b8",
   "metadata": {},
   "source": [
    "Es una afirmación que apsear de ser indemostrable es aceptada universalmente en las ciencias computacionales, dice: \"Todo Algoritmo, sin importar la complejidad,es una maquina de Turing\". Esto nos lleva al siguiente punto, las máquinas de Turing"
   ]
  },
  {
   "cell_type": "markdown",
   "id": "138416bb-1d56-4a92-82ee-067588fc68b8",
   "metadata": {
    "jp-MarkdownHeadingCollapsed": true,
    "tags": []
   },
   "source": [
    "## Máquinas de Turing"
   ]
  },
  {
   "cell_type": "markdown",
   "id": "79d5879f-3432-4e62-9328-d2acdba7c7e7",
   "metadata": {},
   "source": [
    "Una máquina de Turing consiste de un control finito que puede estar en\n",
    "cualquier estado de un conjunto finito de estados.\n",
    "Se tiene una cinta dividida en celdas, cada celda con un símbolo. Inicialmente, la entrada (cadena finita de símbolos del alfabeto) se coloca en la cinta, el resto de las celdas tienen el símbolo especial vacío.\n",
    "La cabeza de la cinta está siempre sobre una celda y al principio está sobre la celda más a la izquierda con el primer símbolo de la cadena de entrada.\n",
    "Un movimiento o transición puede cambiar de estado (o quedarse en el estado actual), escribir un símbolo (reemplazando el símbolo que existía o dejando el mismo) y mover la cabeza a la izquierda o derecha."
   ]
  },
  {
   "cell_type": "markdown",
   "id": "79faf71d-18c7-4ec6-973d-97a64459e96d",
   "metadata": {
    "jp-MarkdownHeadingCollapsed": true,
    "tags": []
   },
   "source": [
    "## Verificación de un algoritmo"
   ]
  },
  {
   "cell_type": "markdown",
   "id": "50541e3c-cd62-4094-986b-e07a6196a5df",
   "metadata": {
    "jp-MarkdownHeadingCollapsed": true,
    "tags": []
   },
   "source": [
    "Demostraciones por inducción son una forma de probar que tu algoritmo funciona. Cada demostración por inducción tiene dos pasos: el caso base y el caso inductivo.  \n",
    "Ya que esto queda un poco ambiguo, veamos un ejemplo.  \n",
    "Queremos demostrar que que podemos subir una escalera hasta el último escalón (un algortimo *debe ser finito* ).\n",
    "En el caso inductivo, si mis pies están ya en uno de los escalones, puedo poner mis pies en el siguiente escalón, de esta manera si estabamos en el escalón 1, ahora estaremos en el escalon 2. Eso es un caso inductivo.\n",
    "Veamos ahora el caso base. Puedo decir que mis pies están en la base,piso o escalón 0, puedo entonces subir al escalón 1.\n",
    "\n",
    "Tomando el caso base y nuestro caso inductivo, por lo tanto, podemos escalar hasta el último escalón subiendo uno a la vez."
   ]
  },
  {
   "cell_type": "markdown",
   "id": "f20823f4-cc33-44c8-ab85-ec760ecfb54d",
   "metadata": {
    "jp-MarkdownHeadingCollapsed": true,
    "tags": []
   },
   "source": [
    "# Técnicas Básicas del Análisis de algoritmos"
   ]
  },
  {
   "cell_type": "markdown",
   "id": "52070808-43a3-41d5-9ed2-05fe272702ed",
   "metadata": {
    "tags": []
   },
   "source": [
    "## Análisis Asintótico"
   ]
  },
  {
   "cell_type": "markdown",
   "id": "fa817056-19b5-444d-9dcb-3aedac526f7c",
   "metadata": {},
   "source": [
    "Existen dos grandes bloques sobre el análisis de un algoritmo, por tiempo y por espacio, abarquemos primero el de espacio, este análisis uso la notación Big O, mientras que para el análisis de tiempo, tendremos 3 tiempos para cada algoritmo (algunos solo cuentan con 1 o dos, no es una regla el que todos los algoritmos tendrán 3 tiempos distintos).  \n",
    "Para tiempo, tenemos la notación $\\Omega$ para indicar el mejor caso.  \n",
    "La notación $\\Theta$ para el tiempo promedio.  \n",
    "Y por último usamos O(o mayúscula)para el peor caso."
   ]
  },
  {
   "cell_type": "markdown",
   "id": "7f9cb274-b41d-4fda-a412-d2ac38ed0f35",
   "metadata": {
    "tags": []
   },
   "source": [
    "### Gráficas de tiempo y tablas de algunas complejidades"
   ]
  },
  {
   "cell_type": "markdown",
   "id": "40676edd-51c4-4282-b0de-7720bb222d0e",
   "metadata": {},
   "source": [
    "[Click para ver el archivo](./big-o-cheatsheet.pdf)"
   ]
  },
  {
   "cell_type": "markdown",
   "id": "98268453-cafd-4ce1-b863-ccae82b07bbc",
   "metadata": {
    "tags": []
   },
   "source": [
    "# Divide & Conquer"
   ]
  },
  {
   "cell_type": "markdown",
   "id": "c2d79162-da2f-4288-9603-cfb390fa06aa",
   "metadata": {},
   "source": [
    "D&C por sus siglas en inglés,no es un simple algoritmo que uno puede usar o implementar para resolver un problema especifico. D&C es una forma de pensar acerca de algún problema cualquiera, la forma en la que se trabaja con D&C es la siguiente:\n",
    "1. Se busca el caso más simple, será denominado el caso base\n",
    "2. Se busca ir reduciendo el problema en varios casos bases del punto 1"
   ]
  },
  {
   "cell_type": "markdown",
   "id": "bbd4a5bc-677e-4509-9cce-f6135e2b1519",
   "metadata": {
    "jp-MarkdownHeadingCollapsed": true,
    "tags": []
   },
   "source": [
    "## Quicksort"
   ]
  },
  {
   "cell_type": "markdown",
   "id": "628d55e3-02b4-4f84-9f6a-dc6ed2ab2131",
   "metadata": {},
   "source": [
    "Quicksort es un algoritmo de ordanimento, es mucho más rápido que *selection sort* y es frecuentemente usado en la vida real, hay que mencionar que Quicksort usa D&C. "
   ]
  },
  {
   "cell_type": "markdown",
   "id": "652816f4-7035-4c2c-b675-5d6f4c34e97f",
   "metadata": {},
   "source": [
    "### Quicksort para ordenar un arreglo"
   ]
  },
  {
   "cell_type": "markdown",
   "id": "fff92ae8-9d33-4a6b-9c66-85e5d2ee4689",
   "metadata": {},
   "source": [
    "Existen arreglos que no necesitan ser ordenados, pues de forma implicita ya lo están, este es el caso de arreglos de un solo elemento o de arreglos vacíos, tomemos entonces estos como nuestros casos base, arreglos vacíos o arreglos de un solo elemento.\n",
    "\n",
    "Ahora, tomemos un arreglo de dos elementos, solo hay que revisar si el primer elemento es más pequeño que el segundo, si esto no sucede, es decir, si el primero es más grande que el segundo, entonces solo hay que hacer *swap* y listo.\n",
    "\n",
    "Ahora vayamos con un arreglo de 3 elementos, recuerda que estás usando D&C, por lo que queremos *romper* este arreglo hasta llegar algún caso base. Veamos como trabaja quicksort, primero se toma un elemento cualquiera del arreglo, llamaremos a este elemento *pivote*. Por ahora tomemos el primer elemento del arreglo como *pivote* aunque después veremos como elegir un pivote.\n",
    "Ahora encontremos los elementos menores que el pivote así como los elementos mayores; Esto es llamado *partitioning*.\n",
    "Ahora tenemos:\n",
    "* Un subarreglo de elementos menores que el pivote\n",
    "* El pivote\n",
    "* Un subarreglo de elementos mayores que el pivote\n",
    "\n",
    "Estos dos subarreglos **no** están ordenados.\n",
    "Veamoslo en imagenes.\n",
    "![Caso de 3 alementos](./images/quickFirst.png \"Caso de 3 elementos\")\n",
    "\n",
    "¿Y si tomamos otro pivote ? \n",
    "\n",
    "![Caso de 3 alementos, other pivot](./images/quickSecond.png \"Caso de 3 elementos, otro pivote\")\n",
    "\n",
    "Ahora con un arreglo de 4 elementos\n",
    "\n",
    "![Caso de 4 alementos](./images/quickThird.png \"Caso de 4 elementos\")\n",
    "\n",
    "Con un arreglo de 5 elementos\n",
    "\n",
    "![Caso de 5 elementos](./images/quickFourth.png \"Caso de 5 elementos\")\n",
    "![Caso de 5 elementos Pivote](./images/quickLast.png \"Caso de 5 elementos con otro pivote\")"
   ]
  },
  {
   "cell_type": "markdown",
   "id": "f3a5e7a9-1099-46d0-a61b-704b8d42478a",
   "metadata": {
    "tags": []
   },
   "source": [
    "### Quicksort Julia Code"
   ]
  },
  {
   "cell_type": "code",
   "execution_count": 3,
   "id": "5aff0cff-5ead-4b8a-a1eb-a443bfb8dad4",
   "metadata": {},
   "outputs": [
    {
     "data": {
      "text/plain": [
       "quicksort! (generic function with 3 methods)"
      ]
     },
     "execution_count": 3,
     "metadata": {},
     "output_type": "execute_result"
    }
   ],
   "source": [
    "function quicksort!(arreglo,i=1,j=length(arreglo))\n",
    "    if j > i\n",
    "        pivote = arreglo[rand(i:j)] #Tomamos un número aleatorio dentro del rango de la longitud del arreglo\n",
    "        less, greater = i, j\n",
    "        while less <= greater\n",
    "            while arreglo[less] < pivote\n",
    "                less += 1\n",
    "            end\n",
    "            while arreglo[greater] > pivote\n",
    "                greater -= 1\n",
    "            end\n",
    "            if less <= greater\n",
    "                arreglo[less], arreglo[greater] = arreglo[greater], arreglo[less]\n",
    "                less += 1\n",
    "                greater -= 1\n",
    "            end\n",
    "        end\n",
    "        quicksort!(arreglo,i,greater)\n",
    "        quicksort!(arreglo,less,j)\n",
    "    end\n",
    "    return arreglo\n",
    "end"
   ]
  },
  {
   "cell_type": "code",
   "execution_count": 2,
   "id": "3635d4ee-0840-48d0-ae96-af4d5b8fdf2b",
   "metadata": {},
   "outputs": [
    {
     "name": "stdout",
     "output_type": "stream",
     "text": [
      "un arrelo aleatorio desordenado: [-6, 9, -3, 4, 3, -8, -10, 7, 10, 7] \n",
      "Ahora aparece ordenado! [-10, -8, -6, -3, 3, 4, 7, 7, 9, 10]\n"
     ]
    }
   ],
   "source": [
    "arregloAleatorio = rand(-10:10, 10)\n",
    "println(\"un arrelo aleatorio desordenado: $arregloAleatorio \")\n",
    "println(\"Ahora aparece ordenado! \", quicksort!(arregloAleatorio))"
   ]
  },
  {
   "cell_type": "markdown",
   "id": "edbd29f3-e951-4334-ab60-1778234756d7",
   "metadata": {},
   "source": [
    "Conviene tomar un pivote aleatorio como caso general.\n",
    "\n",
    "Pero, si suponemos que los datos son aleatorios y siguen una distribución normal, entonces podemos usar regla de los cuartos, eliminar los bilaterales de la distribución y quedarnos solo con los datos centrales, de esta manera, tendremos 50% de probabilidad de tomar el mejor pivote de forma aleatoria.  \n",
    "La implementación la dejo en python  en el siguiente [link](./extraCodes/quickSort.py)"
   ]
  },
  {
   "cell_type": "markdown",
   "id": "c0fd1308-ddc3-421d-81a9-e42bde865425",
   "metadata": {
    "jp-MarkdownHeadingCollapsed": true,
    "tags": []
   },
   "source": [
    "## Heapsort"
   ]
  },
  {
   "cell_type": "markdown",
   "id": "6432b808-40a7-45ce-9a64-7a1bc969b865",
   "metadata": {
    "jp-MarkdownHeadingCollapsed": true,
    "tags": []
   },
   "source": [
    "### Heaps"
   ]
  },
  {
   "cell_type": "markdown",
   "id": "4822313a-1bca-460e-a13e-60816aab54ed",
   "metadata": {},
   "source": [
    "Existen distintos tipos de *heaps*, pero, vamos a enfocarnos en *binary heap*.  \n",
    "*binary heap* es un tipo especifico de *binary tree*, recordemos que un *binary tree* es aquel donde cada nodo tiene como máximo dos nodos hijos. Ahora dentro de *binary heaps* tenemos dos sabores, *min-heap* y *max-heap*, para no estar escribiendo todo, me referiré al *binary heap* como *heap* y sigue las siguientes condiciones:\n",
    "- El valor de cada nodo debe ser mayor que el de sus nodos hijos, esto es conocido como *heap condition* \n",
    "- El árbol debe estar completo"
   ]
  },
  {
   "cell_type": "markdown",
   "id": "4de909ae-ebf6-4b59-9f7a-e5167f984a56",
   "metadata": {
    "jp-MarkdownHeadingCollapsed": true,
    "tags": []
   },
   "source": [
    "### Heap condition"
   ]
  },
  {
   "cell_type": "markdown",
   "id": "edd1950f-f31f-4e2c-8377-a31a04125a23",
   "metadata": {},
   "source": [
    "Esta condición nos dice que el valor de cada nododebe ser mayor que el de sus nodos descendentes, de ejemplo tenemos el siguiente árbol.\n",
    "![Heap Condition](./images/heapCondition.jpg \"Heap Condition\")"
   ]
  },
  {
   "cell_type": "markdown",
   "id": "e4b5cd1d-164f-40a8-a0c3-a5202be26b7a",
   "metadata": {},
   "source": [
    "En este ejemplo, la raíz es el nodo con valor 100, observamos que sus nodos inferiores tienen valores menores que 100, lo mismo observamos con sus nodos hijos, en el nodo 88, sus descendentes son menores, y en el nodo 25, lo mismo. El árbol del ejemplo cumple con *Heap Condition*.\n",
    "\n",
    "Es importante notar que un árbol binario es distinto que un heap. En un árbol niario cada nodo hijo derecho tiene un valor mayor que el del nodo padre, mientras que en un heap **nunca** se va cumplir que los nodos hijos sean mayores que el padre.\n",
    "\n",
    "Además es posible construir un heap que cumpla con *opposite heap condition*, de modo que cada nodo es menor que el de sus descendentes"
   ]
  },
  {
   "cell_type": "markdown",
   "id": "a828635d-15f5-418e-8843-11380bac20fb",
   "metadata": {},
   "source": [
    "### Árboles completos"
   ]
  },
  {
   "cell_type": "markdown",
   "id": "c306c073-099b-4ef8-a0f2-ecdf5a960517",
   "metadata": {},
   "source": [
    "La siguiente regla de los heaps, el árbol debe ser completo, esto es, cada nivel del árbolleyendolo de izq a derecha, están todos los nodos,pero, el nivel del fondo *puede* tener posiciones vacías. Veamoslo en ejemplos.\n",
    "\n",
    "El siguiente es un árbol completo\n",
    "\n",
    "![Árbol completo](./images/completeTree.png \"Árbol completo\")\n",
    "\n",
    "El siguiente es un árbol incompleto\n",
    "\n",
    "![Árbol incompleto](./images/incompleteTree.png \"Árbol incompleto\")\n",
    "\n",
    "El siguiente es un árbol completo\n",
    "\n",
    "![Árbol completo B](./images/completeTreeB.png \"Árbol completo B\")\n",
    "\n",
    "Así pues un heap es un árbol que cumple con las dos condiciones anteriores *heap condition* y con ser un árbol completo"
   ]
  },
  {
   "cell_type": "markdown",
   "id": "874b55b4-8b50-46b2-9510-a93a5fe56a63",
   "metadata": {
    "jp-MarkdownHeadingCollapsed": true,
    "tags": []
   },
   "source": [
    "### Heap Insertion"
   ]
  },
  {
   "cell_type": "markdown",
   "id": "f61bd65a-006f-4f17-a8a1-425c34fd20ec",
   "metadata": {},
   "source": [
    "Se debe seguir el siguiente algoritmo\n",
    "\n",
    "1. Creamos un nodo que contenga el nuevo valor y lo insertamos en el primer espacio más a la derecha disponible en el nivel del fondo.\n",
    "2. Siguiente, comparamos ese nodo con su nodo padre.\n",
    "3. Si el nuevo nodo es mayor que el nodo padre, realizar swap entre ellos.\n",
    "4. Repetimos desde el paso 2, hasta que el nodo padre sea mayor."
   ]
  },
  {
   "cell_type": "markdown",
   "id": "968dc397-430e-400a-99a1-8ce3be265130",
   "metadata": {
    "jp-MarkdownHeadingCollapsed": true,
    "tags": []
   },
   "source": [
    "### Heap Deletion"
   ]
  },
  {
   "cell_type": "markdown",
   "id": "3652a278-72b4-4741-b6e6-6e4fcd900aa6",
   "metadata": {},
   "source": [
    "Solo eliminamos el nodo raíz, es decir, eliminamos el nodo de mayor valor.\n",
    "\n",
    "1. Mover el último nodo al lugar donde estaba el nodo raíz\n",
    "2. Recorrer el nuevo nodo raíz hasta su adecuada posición:\n",
    "    1. Revisar los nodos hijos y ver cual es el mayor\n",
    "    2. si el nuevo nodo raíz es menor que el más grnade de los nodos hijos, hacer swap con más grande de los nodos hijo.\n",
    "    3. Repetir desde el paso 1 hasta que no haya nodo hijos mayores"
   ]
  },
  {
   "cell_type": "markdown",
   "id": "4b2a0ce5-aa4e-4cd0-ac3f-46a79c761800",
   "metadata": {
    "jp-MarkdownHeadingCollapsed": true,
    "tags": []
   },
   "source": [
    "### Heapify(arreglo, indice)"
   ]
  },
  {
   "cell_type": "markdown",
   "id": "c5ee9db6-025d-49a6-9e8a-c0df72fe844b",
   "metadata": {},
   "source": [
    "1. izquierda = left(indice)\n",
    "2. derecha = right(indice)\n",
    "3. if izquierda <= arreglo.heap-size & arreglo[izquierda] > arreglo[indice]\n",
    "    1. largest = izquierda\n",
    "4. else largest = indice\n",
    "5. if derecha <= arreglo.heap-size & arreglo[derecha] > arreglo[largest]\n",
    "    1. largest = derecha\n",
    "6. if largest distinto de indice\n",
    "    1. swap arreglo[indice] con arreglo [largest]\n",
    "    2. heapify(arreglo, largest)"
   ]
  },
  {
   "cell_type": "markdown",
   "id": "0894394f-75f6-4386-8fac-e1e54495d97a",
   "metadata": {
    "jp-MarkdownHeadingCollapsed": true,
    "tags": []
   },
   "source": [
    "### Max-Heap(Arreglo)"
   ]
  },
  {
   "cell_type": "markdown",
   "id": "c489e910-8e8b-447b-acbe-59db7479b264",
   "metadata": {},
   "source": [
    "1. arreglo.heap-size = tamaño del arreglo\n",
    "2. for indice = tamaño del arreglo/2 bajar 1\n",
    "    1. heapify(Arreglo, indice)"
   ]
  },
  {
   "cell_type": "markdown",
   "id": "c71cdeb6-a306-4aaa-bb8c-24cff09f4068",
   "metadata": {
    "jp-MarkdownHeadingCollapsed": true,
    "tags": []
   },
   "source": [
    "### Heapsort(Arreglo)"
   ]
  },
  {
   "cell_type": "markdown",
   "id": "76e06a72-df13-47d6-97f3-a16901e1eefe",
   "metadata": {},
   "source": [
    "1. Max-Heap(Arreglo)\n",
    "2. for indice = tamaño del arreglo bajar 2\n",
    "    1. swap Arreglo[1] con Arreglo[i]\n",
    "    2. tamaño del arreglo = tamaño del arreglo -1\n",
    "    3. heapify(arreglo, 1)"
   ]
  },
  {
   "cell_type": "code",
   "execution_count": 1,
   "id": "f30eb8b1-62f1-492a-80d9-9fb0ec483650",
   "metadata": {},
   "outputs": [
    {
     "data": {
      "text/plain": [
       "heapsort! (generic function with 1 method)"
      ]
     },
     "execution_count": 1,
     "metadata": {},
     "output_type": "execute_result"
    }
   ],
   "source": [
    "function swap(arreglo, i, j)\n",
    "    arreglo[i], arreglo[j] = arreglo[j], arreglo[i]\n",
    "end\n",
    "\n",
    "#####Recordar que el uso de ! al final del nombre de una función en Julia\n",
    "### es una convención para indicar que los argumentos son\n",
    "## pass-by-sharing\n",
    "\n",
    "function pd!(arreglo, primero, ultimo)\n",
    "    while (c = 2 * primero - 1) < ultimo\n",
    "        if c < ultimo && arreglo[c] < arreglo[c + 1]\n",
    "            c += 1\n",
    "        end\n",
    "        if arreglo[primero] < arreglo[c]\n",
    "            swap(arreglo, c, primero)\n",
    "            primero = c\n",
    "        else\n",
    "            break\n",
    "        end\n",
    "    end\n",
    "end\n",
    "\n",
    "function heapify!(arreglo, n) #n es un indice\n",
    "    f = div(n, 2)\n",
    "    while f >= 1\n",
    "        pd!(arreglo, f, n)\n",
    "        f -= 1\n",
    "    end\n",
    "end\n",
    "\n",
    "function heapsort!(arreglo)\n",
    "    longitud = length(arreglo)\n",
    "    heapify!(arreglo, longitud)\n",
    "    while longitud > 1\n",
    "        swap(arreglo, 1, longitud)\n",
    "        longitud -= 1\n",
    "        pd!(arreglo, 1, longitud)\n",
    "    end\n",
    "    return arreglo\n",
    "end"
   ]
  },
  {
   "cell_type": "code",
   "execution_count": 2,
   "id": "d872f687-9a5d-43cc-87ed-b0663105f6a4",
   "metadata": {},
   "outputs": [
    {
     "data": {
      "text/plain": [
       "10-element Vector{Int64}:\n",
       " -1\n",
       " -4\n",
       "  8\n",
       " -6\n",
       " -9\n",
       " -8\n",
       "  4\n",
       " -4\n",
       " -2\n",
       "  7"
      ]
     },
     "execution_count": 2,
     "metadata": {},
     "output_type": "execute_result"
    }
   ],
   "source": [
    "arreglo = rand(-10:10, 10)"
   ]
  },
  {
   "cell_type": "code",
   "execution_count": 4,
   "id": "af9582b1-ef4b-4b8c-a897-eb9f11bbdd41",
   "metadata": {},
   "outputs": [
    {
     "data": {
      "text/plain": [
       "10-element Vector{Int64}:\n",
       " -9\n",
       " -8\n",
       " -6\n",
       " -4\n",
       " -4\n",
       " -2\n",
       " -1\n",
       "  4\n",
       "  7\n",
       "  8"
      ]
     },
     "execution_count": 4,
     "metadata": {},
     "output_type": "execute_result"
    }
   ],
   "source": [
    "heapsort!(arreglo)"
   ]
  },
  {
   "cell_type": "markdown",
   "id": "b5a4985e-734e-49d6-9c64-34e596420554",
   "metadata": {
    "tags": []
   },
   "source": [
    "# Más Algoritmos de ordenamiento"
   ]
  },
  {
   "cell_type": "markdown",
   "id": "71ebbcdd-28bc-489d-8b8c-4a1938527c82",
   "metadata": {},
   "source": [
    "[Click para ver el archivo](./AlgoritmosOrdenamiento.ipynb)"
   ]
  }
 ],
 "metadata": {
  "kernelspec": {
   "display_name": "Julia 1.6.2",
   "language": "julia",
   "name": "julia-1.6"
  },
  "language_info": {
   "file_extension": ".jl",
   "mimetype": "application/julia",
   "name": "julia",
   "version": "1.6.4"
  }
 },
 "nbformat": 4,
 "nbformat_minor": 5
}
