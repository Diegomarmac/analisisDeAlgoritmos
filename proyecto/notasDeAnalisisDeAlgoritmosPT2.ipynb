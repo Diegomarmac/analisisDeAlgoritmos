{
 "cells": [
  {
   "cell_type": "markdown",
   "id": "f0188cef-2e8d-44ff-9610-162bcfc27884",
   "metadata": {
    "tags": []
   },
   "source": [
    "# Paradigmas principales en el diseño de algoritmos"
   ]
  },
  {
   "cell_type": "markdown",
   "id": "8e31344e-76c6-4f17-81db-7c596b938fe0",
   "metadata": {
    "jp-MarkdownHeadingCollapsed": true,
    "tags": []
   },
   "source": [
    "## Backtracking"
   ]
  },
  {
   "cell_type": "markdown",
   "id": "3e692333-e9c1-4dc4-b6b8-60e00d2574c8",
   "metadata": {},
   "source": [
    "Esta estrategia consiste en explorar todos los caminos posibles a una función objetivo,tomemos el ejemplo más común, un juego de tablero, va creando grafos para abarcar todas las jugadas posibles, en cuanto sale alguna jugada donde uno pierde, va un paso atras y se evita esa jugada.  \n",
    "Calcular todos los caminos posibles lo hace particularmente infeciente cuando hay miles de opciones, además de ser más complejo los códigos para desarrollar esta estrategia.  \n",
    "\n",
    "[Click para ver el caso de las N reinas](./NQueens.ipynb)"
   ]
  },
  {
   "cell_type": "markdown",
   "id": "657bf2cb-13d8-4c57-86c2-b480d02b4a14",
   "metadata": {
    "jp-MarkdownHeadingCollapsed": true,
    "tags": []
   },
   "source": [
    "## Algoritmos Greedy"
   ]
  },
  {
   "cell_type": "markdown",
   "id": "d19743c1-3e10-4016-b532-dec646605952",
   "metadata": {},
   "source": [
    "Un algoritmo greedy es simple: en cada paso toma el mejor movimiento. En términos técnicos \"_at each step you pick the locally optimal solution_\" Bhargava,Aditya Grokking Algorithms.  "
   ]
  },
  {
   "cell_type": "markdown",
   "id": "bb0367aa-1d97-4316-b990-72234155a5d1",
   "metadata": {
    "jp-MarkdownHeadingCollapsed": true,
    "tags": []
   },
   "source": [
    "### El problema de las actividades"
   ]
  },
  {
   "cell_type": "markdown",
   "id": "a870fc33-9550-4f15-b446-25030eba1785",
   "metadata": {},
   "source": [
    "Supongamos que tenemos un salón de clases y queremos ocuparlo cuantas clases sean posibles, Pero algunas de las clases que tenemos para elegir se empalman. Usamos Greedy ! "
   ]
  },
  {
   "cell_type": "markdown",
   "id": "8ad8b99a-e23c-4aee-b063-c061e6b4c777",
   "metadata": {
    "jp-MarkdownHeadingCollapsed": true,
    "tags": []
   },
   "source": [
    "#### Algoritmo"
   ]
  },
  {
   "cell_type": "markdown",
   "id": "d762bbe3-b5af-466f-85f1-7fbd7081209d",
   "metadata": {},
   "source": [
    "Suena como un problema tedioso, pero podemos resolverlo bastante fácil:  \n",
    "1. Escoge la clase que términa más temprano, esta será la primera clase que elegiremos.\n",
    "2. Ahora, elige la clase que comienza justo después de la primera, de nuevo elige la que termine lo más temprano posible, esta clase será la siguiente.\n",
    "3. Repite el paso 2 hasta que acabes."
   ]
  },
  {
   "cell_type": "markdown",
   "id": "7e05a137-1f06-46e2-97ac-8b8a6a923ee9",
   "metadata": {
    "jp-MarkdownHeadingCollapsed": true,
    "tags": []
   },
   "source": [
    "#### Código"
   ]
  },
  {
   "cell_type": "code",
   "execution_count": 8,
   "id": "005b1708-a3ab-4035-a347-62a9fdaa755b",
   "metadata": {},
   "outputs": [
    {
     "data": {
      "text/plain": [
       "schedulingProblem (generic function with 1 method)"
      ]
     },
     "execution_count": 8,
     "metadata": {},
     "output_type": "execute_result"
    }
   ],
   "source": [
    "function schedulingProblem(arregloDeActividades)\n",
    "    arregloOrdenado = sort!(arregloDeActividades, by = x -> x[3]) #Con esto ordenamos el arreglo de modo que la clase que acaba más temprano quede hasta arriba\n",
    "    indice = 1\n",
    "    primeraClase = arregloOrdenado[indice][1] # Como está ordenado, esto nos da la clase que acaba primero\n",
    "    println(primeraClase)\n",
    "    for otherIndex in 1:length(arregloOrdenado)\n",
    "        if arregloOrdenado[otherIndex][2] > arregloOrdenado[indice][3] #Aquí revisamos que no se empalmen\n",
    "            println(arregloOrdenado[otherIndex][1])\n",
    "            indice = otherIndex\n",
    "        end\n",
    "    end\n",
    "end"
   ]
  },
  {
   "cell_type": "code",
   "execution_count": 2,
   "id": "c9394399-869f-4ecb-81fa-b6295fa27d16",
   "metadata": {},
   "outputs": [
    {
     "data": {
      "text/plain": [
       "3-element Vector{Vector{Any}}:\n",
       " [\"AnalisisAlgoritmos\", 14, 16]\n",
       " [\"Aleman\", 7, 9]\n",
       " [\"Investigacion\", 20, 22]"
      ]
     },
     "execution_count": 2,
     "metadata": {},
     "output_type": "execute_result"
    }
   ],
   "source": [
    "misclases =[ [\"AnalisisAlgoritmos\", 14,16], [\"Aleman\", 7, 9], [\"Investigacion\", 20, 22] ]"
   ]
  },
  {
   "cell_type": "code",
   "execution_count": 7,
   "id": "28889125-cf54-499d-b1be-551e9a671894",
   "metadata": {},
   "outputs": [
    {
     "name": "stdout",
     "output_type": "stream",
     "text": [
      "Aleman\n",
      "AnalisisAlgoritmos\n",
      "Investigacion\n"
     ]
    }
   ],
   "source": [
    "schedulingProblem(misclases)"
   ]
  },
  {
   "cell_type": "markdown",
   "id": "acc9ed94-3020-42ef-ba4d-7a84c8b5a8f6",
   "metadata": {
    "jp-MarkdownHeadingCollapsed": true,
    "tags": []
   },
   "source": [
    "### El problema de la mochila"
   ]
  },
  {
   "cell_type": "markdown",
   "id": "e0d90086-ff2b-4a8e-a6a3-955ca34fa817",
   "metadata": {},
   "source": [
    "Eres un ladrón que ha entrado a robar en una tienda, pero la mochila que llevas solo soporta 35 libras.  \n",
    "Entonces, tratas de maximizar el valor de los objetos que puedes llevar, los objetos son los siguientes:  \n",
    "1. Bocinas, valor \\$ 3000, peso: 30 libras\n",
    "2. Laptop, valor \\$ 2000, peso:20 libras\n",
    "3. Guitarra, valor \\$ 1500, peso 15 libras"
   ]
  },
  {
   "cell_type": "markdown",
   "id": "698d6d1c-1e8d-45fe-bed8-430a3c658c6a",
   "metadata": {
    "tags": []
   },
   "source": [
    "#### Algoritmo"
   ]
  },
  {
   "cell_type": "markdown",
   "id": "f30d74dc-9cbc-41ec-9841-85b4ea39cecb",
   "metadata": {},
   "source": [
    "De nuevo, la estrategia greedy es muy simple:\n",
    "1. Elige el objeto de mayor valor que quepa en tu mochila\n",
    "2. elige el siguiente objeto más valioso que quepa en tu mochila\n",
    "3. repite el paso 2 hasta que ya no quepa un objeto completo en tu mochila."
   ]
  },
  {
   "cell_type": "markdown",
   "id": "4b66a0b5-7127-48b0-851e-7821c6dc5f6a",
   "metadata": {
    "tags": []
   },
   "source": [
    "#### Código"
   ]
  },
  {
   "cell_type": "code",
   "execution_count": 15,
   "id": "1748c402-3c75-4325-8033-559549c31008",
   "metadata": {},
   "outputs": [
    {
     "data": {
      "text/plain": [
       "knapsackGreedy (generic function with 2 methods)"
      ]
     },
     "execution_count": 15,
     "metadata": {},
     "output_type": "execute_result"
    }
   ],
   "source": [
    "function knapsackGreedy(arregloDeObjetos)\n",
    "    pesoDisponible = 35 # MOdificar de acuerdo al peso que soporte la mochial en tu problema\n",
    "    for index in 1:length(arregloDeObjetos)\n",
    "        if pesoDisponible > arregloDeObjetos[index][3] #COmparamos si la mochila soportará o no el siguiente objeto\n",
    "            println(arregloDeObjetos[index][1]) #Si se cumple que cabe, entonces imprime el nombre del objeto\n",
    "            pesoDisponible = pesoDisponible - arregloDeObjetos[index][3] # ACtualizamos el peso disponible ya con el objeto dentro\n",
    "        end\n",
    "    end\n",
    "end"
   ]
  },
  {
   "cell_type": "code",
   "execution_count": 11,
   "id": "9e537af0-df3a-45e8-ac12-e365fa730325",
   "metadata": {},
   "outputs": [
    {
     "data": {
      "text/plain": [
       "3-element Vector{Array}:\n",
       " Any[\"Bocinas\", 3000, 30]\n",
       " Any[\"Laptop\", 2000, 20]\n",
       " Any[\"Guitarra\", 1500, 15]"
      ]
     },
     "execution_count": 11,
     "metadata": {},
     "output_type": "execute_result"
    }
   ],
   "source": [
    "objetosARobar = Array[ [\"Bocinas\",3000,30], [\"Laptop\", 2000, 20], [\"Guitarra\", 1500, 15] ]"
   ]
  },
  {
   "cell_type": "code",
   "execution_count": 14,
   "id": "3dd9e997-6dcd-4323-9bd5-521a2c633f2c",
   "metadata": {},
   "outputs": [
    {
     "name": "stdout",
     "output_type": "stream",
     "text": [
      "Bocinas\n"
     ]
    }
   ],
   "source": [
    "knapsackGreedy(objetosARobar)"
   ]
  },
  {
   "cell_type": "markdown",
   "id": "9b64bc69-de21-4106-851f-c45a50e2b2b6",
   "metadata": {},
   "source": [
    "Usando Greedy notamos que solo nos llevamos las Bocinas, las cuales tienen un valor de \\$ 3000.  \n",
    "Pero si hubiesemos robado la guitarra (peso 15 libras) y la laptop (peso 20 libras), entonces nos iriamos con la mochila llena y con un valor de \\$ 3500, el cual es la solución optima.\n",
    "\n",
    "Notemos entonces que Greedy aunque simples, no siempre nos dará la solución optima, pero sí nos acerca bastante.  \n",
    "Si eres un ladrón tal vez no te preocupes por llegar a la paerfección, con acercarte y llevarte algo valioso será suficiente."
   ]
  },
  {
   "cell_type": "markdown",
   "id": "423af54b-d4b6-449f-ac48-ec95a5077d2b",
   "metadata": {
    "jp-MarkdownHeadingCollapsed": true,
    "tags": []
   },
   "source": [
    "## Problemas NP-Completos"
   ]
  },
  {
   "cell_type": "markdown",
   "id": "6446b5cf-6771-4c1c-a061-d1b5f113cf74",
   "metadata": {},
   "source": [
    "Un vendendor tiene que visitar 5 ciudades distintas, él está tratando de encontrar la ruta más corta para abarcar las 5 ciudades, para hacer esto uno pensaría en tener que calcular todas las rutas posibles.  \n",
    "Si quisieramos abarcar todas las rutas podríamos seguir el siguiente modelo:"
   ]
  },
  {
   "cell_type": "markdown",
   "id": "5aa74e01-cac4-4aef-96ca-1a372dda3cca",
   "metadata": {},
   "source": [
    "![Cantidad de posibles rutas](./images/salesmanAmount.png \"Cantidad de posibles rutas\")"
   ]
  },
  {
   "cell_type": "markdown",
   "id": "91f7aff9-d554-4ed2-8a52-648e40d4b65f",
   "metadata": {},
   "source": [
    "Esto es llamado _funciones factoriales_, notemos que 5! = 120. Entonces, si tuvieramos que visitar 10 ciudades ? 10! = 3628800, es decir tendrpiamos que calcular todas esas rutas. al ser factoriales los números crecen muy rápido. Es imposible computar la solución correcta para el problema del vendedor si tu número de ciudades es demasiado grande. Esto es un problema NP-Completo, problemas donde tienes que calcular cada posible solución y elegir la más corta o rápida posible.\n",
    "\n",
    "Muchos problemas NP-Completos son famosos por ser dificiles de resolver, algunos autores incluso piensan que no es posible escribir un algoritmo capaz de resolver estos problemas de forma rápida.\n",
    "\n",
    "Es complejo ver si tu problema es NP completo o no y es importante saberlo porque entonces no buscas la solución optima, buscas la solución que más se acerque, es decir, usas algoritmos de aproximación, algo que personalmente me ayuda a saber si es NP o no:\n",
    "- Si mi algoritmo corre bien con pocos elementos y al agregar pocos elementos extras se vuelve absurdamente lento, entonces puede ser NP-Complete\n",
    "- Si al intentar descomponer el problema un subproblemas y estos o alguno de estos consiste en recorrer todos los caminos posibles, entonces puede ser NP-Complete\n",
    "\n",
    "Ahora, mencioné que lo mejor es usar algoritmos de aproximación, algoritmos Greedy son algoritmos fáciles de escribir y de ejecución rápida, Greedy pueden ser prácticos algoritmos de aproximación."
   ]
  },
  {
   "cell_type": "markdown",
   "id": "92b04a9c-f762-4228-ab7c-1aba9fcc592d",
   "metadata": {
    "tags": []
   },
   "source": [
    "## Programación Dinamica"
   ]
  },
  {
   "cell_type": "markdown",
   "id": "9589b0df-c1bc-4036-9698-35d0ef603918",
   "metadata": {},
   "source": [
    "Iniciemos con el problema de la mochila, ¿recuerdas que eras un ladrón ?   \n",
    "Objetos robables:\n",
    "- Bocinas, valor 3000, peso: 4 libras\n",
    "- Laptop, valor 2000, peso: 3 libras\n",
    "- Guitarra,valor 1500, peso: 1 libra\n",
    "\n",
    "La solución más simple es realizar cada posible conjunto de soluciones hasta encontrar aquel que nos dé el valor robado más alto y esta forma funciona, pero es muy lento, notemos que para 3 objetos tendremos que calcular 8 posibles conjuntos, si fueran 4 objetos, serían 16 posibles conjuntos (Es decir, este algoritmo toma $ O(2^n)$ ) el cual si recordamos las gráficas que presetne en la parte uno, es algo súper lento, evitemoslo.\n",
    "\n",
    "Usando Greedy vimos que nos podemos acercar bastante a la solución optima, más no llegamos a esa solución, si quisieramos llegar a ese punto ideal, debemos usar _Programación Dinamica_. Este paradigma inicia por resolver subproblemas que en su conjunto van a solucionar el problema completo.\n",
    "\n",
    "Pensando en el problema del ladrón, podemos decir que un subproblema sería pensar en sub mochilas o en mochilas más pequeñas, si buscamos como llenar cada mochila más pequeña, entonces llegaríamos a que si nuestra mochila compelta soporta 4 libras, entonces dados los pesos de cada producto lo mejor es tomar mochilas de 3 libras y otra de 1 libra, ahora, si observas la lista de objetos, notamos que los objetos que cumplen con esos pesos es la laptop y la guitarra, que juntos no sdan un valor de 3500, es mayor que el valor obtenido en Greedy donde solo teníamos las bocinas."
   ]
  },
  {
   "cell_type": "markdown",
   "id": "f860a48b-712b-4144-a318-4993867e851e",
   "metadata": {},
   "source": [
    "### Formula y algoritmo para el problema de la mochila en programación dinamica"
   ]
  },
  {
   "cell_type": "markdown",
   "id": "8667394e-9c01-48f8-9d8c-e3f693ed5da5",
   "metadata": {},
   "source": [
    "Lo primero siempre al resolver un problema con programación dinamica es resolverlo usando tablas, para no extenderme en este punto dejaré la tabla finalizada y daré la formula para obtener los valores"
   ]
  }
 ],
 "metadata": {
  "kernelspec": {
   "display_name": "Julia 1.6.2",
   "language": "julia",
   "name": "julia-1.6"
  },
  "language_info": {
   "file_extension": ".jl",
   "mimetype": "application/julia",
   "name": "julia",
   "version": "1.6.3"
  }
 },
 "nbformat": 4,
 "nbformat_minor": 5
}
